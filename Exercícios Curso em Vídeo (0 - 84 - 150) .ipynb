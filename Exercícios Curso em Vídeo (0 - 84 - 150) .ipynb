{
 "cells": [
  {
   "cell_type": "markdown",
   "id": "09c599c6",
   "metadata": {},
   "source": [
    "* **1**: Crie um script que leia nome de uma pessoa, e mostre uma mensagem de boas vindas de acordo com o valor digitado.\n"
   ]
  },
  {
   "cell_type": "code",
   "execution_count": 1,
   "id": "c6af654f",
   "metadata": {},
   "outputs": [
    {
     "name": "stdout",
     "output_type": "stream",
     "text": [
      "Qual é o seu nome? Mayara\n",
      "Seja bem vindo(a) Mayara!\n"
     ]
    }
   ],
   "source": [
    "nome = input('Qual é o seu nome? ')\n",
    "\n",
    "print('Seja bem vindo(a) {}!'.format(nome))"
   ]
  },
  {
   "cell_type": "markdown",
   "id": "211e6f03",
   "metadata": {},
   "source": [
    "* **2**: Crie um script que leia dia, mês e o ano de nascimento e mostre uma mensagem com a data formatada."
   ]
  },
  {
   "cell_type": "code",
   "execution_count": 6,
   "id": "7c7de9ef",
   "metadata": {},
   "outputs": [
    {
     "name": "stdout",
     "output_type": "stream",
     "text": [
      "2023-05-14 <attribute 'year' of 'datetime.date' objects>\n",
      "Digite o dia do seu nascimento: 17\n",
      "Digite o mês: 09\n",
      "Digite o ano: 1999\n",
      "Formatação: 17/9/1999\n"
     ]
    }
   ],
   "source": [
    "from datetime import date\n",
    "\n",
    "hoje = date.today()\n",
    "ano_hoje = date.year\n",
    "print(hoje, ano_hoje)\n",
    "\n",
    "dia = int(input('Digite o dia do seu nascimento: '))\n",
    "mes = int(input('Digite o mês: '))\n",
    "ano = int(input('Digite o ano: '))\n",
    "\n",
    "print('Formatação: {}/{}/{}'.format(dia, mes, ano))\n",
    "\n"
   ]
  },
  {
   "cell_type": "markdown",
   "id": "fa6831e7",
   "metadata": {},
   "source": [
    "* **3**: Crie um script que leia dois números e tente mostrar a soma entre eles."
   ]
  },
  {
   "cell_type": "code",
   "execution_count": 7,
   "id": "4288c52f",
   "metadata": {},
   "outputs": [
    {
     "name": "stdout",
     "output_type": "stream",
     "text": [
      "Digite um número: 2\n",
      "Digite outro número: 3\n",
      "A soma entre os números 2 e 3 é igual a 5.\n"
     ]
    }
   ],
   "source": [
    "numeroum = int(input('Digite um número: '))\n",
    "numerodois = int(input('Digite outro número: '))\n",
    "soma = numeroum + numerodois\n",
    "\n",
    "print('A soma entre os números {} e {} é igual a {}.'.format(numeroum, numerodois, soma))"
   ]
  },
  {
   "cell_type": "markdown",
   "id": "62dd3f7f",
   "metadata": {},
   "source": [
    "* **4**: Faça um programa que leia algo pelo teclado e mostre na tela seu tipo primitivo e todas as informações sobre ele."
   ]
  },
  {
   "cell_type": "code",
   "execution_count": 9,
   "id": "601b1bd2",
   "metadata": {},
   "outputs": [
    {
     "name": "stdout",
     "output_type": "stream",
     "text": [
      "Digite algo: 5.0\n",
      "<class 'str'>\n"
     ]
    }
   ],
   "source": [
    "tipo = input('Digite algo: ')\n",
    "\n",
    "print(type(tipo))"
   ]
  },
  {
   "cell_type": "markdown",
   "id": "fd628189",
   "metadata": {},
   "source": [
    "* **5**: Faça um programa que leia um número inteiro e mostre seu sucessor e antecessor.\n"
   ]
  },
  {
   "cell_type": "code",
   "execution_count": 10,
   "id": "fd975a5b",
   "metadata": {},
   "outputs": [
    {
     "name": "stdout",
     "output_type": "stream",
     "text": [
      "Digite um número: 4\n",
      "O Antecessor do número digitado é 3, e sucessor 5.\n"
     ]
    }
   ],
   "source": [
    "numero = int(input('Digite um número: '))\n",
    "antecessor = numero - 1 \n",
    "sucessor = numero + 1\n",
    "\n",
    "print('O Antecessor do número digitado é {}, e sucessor {}.'.format(antecessor, sucessor))"
   ]
  },
  {
   "cell_type": "markdown",
   "id": "4324fd44",
   "metadata": {},
   "source": [
    "* **6**: Faça um algoritmo que que leia um número e mostre seu dobro, triplo e raiz quadrada.\n"
   ]
  },
  {
   "cell_type": "code",
   "execution_count": 7,
   "id": "bc313956",
   "metadata": {},
   "outputs": [
    {
     "name": "stdout",
     "output_type": "stream",
     "text": [
      "Digite um número: 5\n",
      "O dobro é 25, o triplo 125 e a raiz quadrada é 2.\n"
     ]
    }
   ],
   "source": [
    "import math\n",
    "\n",
    "numero = int(input('Digite um número: '))\n",
    "\n",
    "dobro = math.pow(numero, 2)\n",
    "triplo = math.pow(numero, 3)\n",
    "raiz = math.sqrt(numero)\n",
    "\n",
    "print('O dobro é {:.0f}, o triplo {:.0f} e a raiz quadrada é {:.0f}.'.format(dobro, triplo, raiz))"
   ]
  },
  {
   "cell_type": "markdown",
   "id": "c5198c8d",
   "metadata": {},
   "source": [
    "* **7**: Desenvolva um programa que leia as duas notas de um aluno, e calcule sua média."
   ]
  },
  {
   "cell_type": "code",
   "execution_count": 3,
   "id": "e73cff52",
   "metadata": {},
   "outputs": [
    {
     "name": "stdout",
     "output_type": "stream",
     "text": [
      "Digite a primeira nota: 5\n",
      "Digite a segunda nota: 8\n",
      "A média da nota do aluno é 6.5!\n"
     ]
    }
   ],
   "source": [
    "nota01 = int(input('Digite a primeira nota: '))\n",
    "nota02 = int(input('Digite a segunda nota: '))\n",
    "media = (nota01 + nota02) / 2\n",
    "\n",
    "print('A média da nota do aluno é {}!'.format(media))"
   ]
  },
  {
   "cell_type": "markdown",
   "id": "af77d3cb",
   "metadata": {},
   "source": [
    "* **8**: Escreva um programa que leia um valor em metros e o exiba convertido em cm e mm."
   ]
  },
  {
   "cell_type": "code",
   "execution_count": 4,
   "id": "266a7ed2",
   "metadata": {},
   "outputs": [
    {
     "name": "stdout",
     "output_type": "stream",
     "text": [
      "Digite um valor em metros: 1\n",
      "O valor em cm é 100, e em mm é 1000!\n"
     ]
    }
   ],
   "source": [
    "metros = int(input('Digite um valor em metros: '))\n",
    "cmconv = metros * 100\n",
    "mmconv = metros * 1000\n",
    "\n",
    "print('O valor em cm é {}, e em mm é {}!'.format(cmconv, mmconv))"
   ]
  },
  {
   "cell_type": "markdown",
   "id": "55ca8d0b",
   "metadata": {},
   "source": [
    "* **9**: Faça um programa que leia um número inteiro e mostre na tela sua tabuada"
   ]
  },
  {
   "cell_type": "code",
   "execution_count": null,
   "id": "482fc217",
   "metadata": {},
   "outputs": [],
   "source": [
    "tabuada = int(input('Digite um número: ')) "
   ]
  },
  {
   "cell_type": "markdown",
   "id": "d0ed238d",
   "metadata": {},
   "source": [
    "* **10**: Crie um programa que leia quantos reais a pessoa tem na carteira, e mostre quantos dolares ela pode comprar.\n"
   ]
  },
  {
   "cell_type": "code",
   "execution_count": 2,
   "id": "8f08c391",
   "metadata": {},
   "outputs": [
    {
     "name": "stdout",
     "output_type": "stream",
     "text": [
      "Quantos reais você tem? 125\n",
      "Você pode comprar $23.85 dólares!\n"
     ]
    }
   ],
   "source": [
    "real = float(input('Quantos reais você tem? '))\n",
    "dolar = real / 5.24\n",
    "\n",
    "print('Você pode comprar ${:.2f} dólares!'.format(dolar))"
   ]
  },
  {
   "cell_type": "markdown",
   "id": "14b3ef72",
   "metadata": {},
   "source": [
    "* **11**: Faça um programa que leia a altura e largura de uma parede em metros. Calcule a área e a quantidade de tinta necessária para pinta-la-, sabendo que cada 1lt pinta uma área de 2m²."
   ]
  },
  {
   "cell_type": "code",
   "execution_count": 8,
   "id": "0c655624",
   "metadata": {},
   "outputs": [
    {
     "name": "stdout",
     "output_type": "stream",
     "text": [
      "Digite a altura da parede: 5\n",
      "Digite a largura da parede: 3\n",
      "A quantidade de tinta necessária para pintar toda a área de 15.0 metros, é 8L.\n"
     ]
    }
   ],
   "source": [
    "altura = float(input('Digite a altura da parede: '))\n",
    "largura = float(input('Digite a largura da parede: '))\n",
    "area = altura * largura \n",
    "tinta = area / 2\n",
    "\n",
    "print('A quantidade de tinta necessária para pintar toda a área de {} metros, é {:.0f}L.'.format(area, tinta))\n"
   ]
  },
  {
   "cell_type": "markdown",
   "id": "acbb2f40",
   "metadata": {},
   "source": [
    "* **12**: Faça um programa que leia o preço de um produto, e mostre seu novo preço com 5% de desconto."
   ]
  },
  {
   "cell_type": "code",
   "execution_count": 14,
   "id": "9b22f271",
   "metadata": {},
   "outputs": [
    {
     "name": "stdout",
     "output_type": "stream",
     "text": [
      "Qual é o preço atual do produto? 5\n",
      "O preço atual do produto com 5% de desconto é R$ 4.75\n",
      "O valor arredondado para cima 5, e para baixo 4.\n"
     ]
    }
   ],
   "source": [
    "import math \n",
    "\n",
    "precoAntigo = float(input('Qual é o preço atual do produto? '))\n",
    "novoPreco = precoAntigo - (precoAntigo * 0.05)\n",
    "\n",
    "print('O preço atual do produto com 5% de desconto é R$ {:.2f}'.format(novoPreco))\n",
    "\n",
    "valorCima = math.ceil(novoPreco)\n",
    "valorBaixo = math.floor(novoPreco)\n",
    "print('O valor arredondado para cima {}, e para baixo {}.'.format(valorCima, valorBaixo))"
   ]
  },
  {
   "cell_type": "markdown",
   "id": "b054e215",
   "metadata": {},
   "source": [
    "* **13**: Faça um programa que leia o sálario de um funcionário e mostre seu novo salario com 15% de aumento.\n"
   ]
  },
  {
   "cell_type": "code",
   "execution_count": null,
   "id": "cc42cc47",
   "metadata": {},
   "outputs": [],
   "source": [
    "salarioAntigo = float(input('Quantos você ganha? '))\n",
    "novoSalario = salarioAntigo + (salarioAntigo * 0.15)\n",
    "\n",
    "print('Seu novo sálario é R$ {}.'.format(novoSalario))"
   ]
  },
  {
   "cell_type": "markdown",
   "id": "3f9a86a7",
   "metadata": {},
   "source": [
    "* **14**: Conversão de temperaturas, CELSIUS -> KELVIN ; KELVIN -> FANRENHEIT ; CELSIUS -> FAHRENHEIT."
   ]
  },
  {
   "cell_type": "code",
   "execution_count": 4,
   "id": "7e98d683",
   "metadata": {},
   "outputs": [
    {
     "name": "stdout",
     "output_type": "stream",
     "text": [
      "Collecting requests\n",
      "  Downloading requests-2.30.0-py3-none-any.whl (62 kB)\n",
      "                                              0.0/62.5 kB ? eta -:--:--\n",
      "     --------------------------               41.0/62.5 kB 2.0 MB/s eta 0:00:01\n",
      "     --------------------------               41.0/62.5 kB 2.0 MB/s eta 0:00:01\n",
      "     --------------------------               41.0/62.5 kB 2.0 MB/s eta 0:00:01\n",
      "     --------------------------               41.0/62.5 kB 2.0 MB/s eta 0:00:01\n",
      "     --------------------------               41.0/62.5 kB 2.0 MB/s eta 0:00:01\n",
      "     -------------------------------------  61.4/62.5 kB 172.4 kB/s eta 0:00:01\n",
      "     -------------------------------------  61.4/62.5 kB 172.4 kB/s eta 0:00:01\n",
      "     -------------------------------------- 62.5/62.5 kB 128.7 kB/s eta 0:00:00\n",
      "Collecting charset-normalizer<4,>=2 (from requests)\n",
      "  Downloading charset_normalizer-3.1.0-cp311-cp311-win_amd64.whl (96 kB)\n",
      "                                              0.0/96.7 kB ? eta -:--:--\n",
      "     -------------------------                61.4/96.7 kB 3.2 MB/s eta 0:00:01\n",
      "     -----------------------------            71.7/96.7 kB 2.0 MB/s eta 0:00:01\n",
      "     -----------------------------            71.7/96.7 kB 2.0 MB/s eta 0:00:01\n",
      "     -----------------------------            71.7/96.7 kB 2.0 MB/s eta 0:00:01\n",
      "     -----------------------------            71.7/96.7 kB 2.0 MB/s eta 0:00:01\n",
      "     -----------------------------            71.7/96.7 kB 2.0 MB/s eta 0:00:01\n",
      "     ------------------------------------   92.2/96.7 kB 291.5 kB/s eta 0:00:01\n",
      "     -------------------------------------- 96.7/96.7 kB 251.3 kB/s eta 0:00:00\n",
      "Requirement already satisfied: idna<4,>=2.5 in c:\\users\\mayara sabrina\\appdata\\local\\programs\\python\\python311\\lib\\site-packages (from requests) (3.4)\n",
      "Collecting urllib3<3,>=1.21.1 (from requests)\n",
      "  Downloading urllib3-2.0.2-py3-none-any.whl (123 kB)\n",
      "                                              0.0/123.2 kB ? eta -:--:--\n",
      "     ---------                             30.7/123.2 kB 660.6 kB/s eta 0:00:01\n",
      "     -------------------------------------  122.9/123.2 kB 1.8 MB/s eta 0:00:01\n",
      "     -------------------------------------- 123.2/123.2 kB 1.0 MB/s eta 0:00:00\n",
      "Collecting certifi>=2017.4.17 (from requests)\n",
      "  Downloading certifi-2023.5.7-py3-none-any.whl (156 kB)\n",
      "                                              0.0/157.0 kB ? eta -:--:--\n",
      "     ----------------------                  92.2/157.0 kB 1.7 MB/s eta 0:00:01\n",
      "     -------------------------------------  153.6/157.0 kB 1.8 MB/s eta 0:00:01\n",
      "     -------------------------------------- 157.0/157.0 kB 1.3 MB/s eta 0:00:00\n",
      "Installing collected packages: urllib3, charset-normalizer, certifi, requests\n",
      "Successfully installed certifi-2023.5.7 charset-normalizer-3.1.0 requests-2.30.0 urllib3-2.0.2\n"
     ]
    }
   ],
   "source": [
    "!pip install requests"
   ]
  },
  {
   "cell_type": "code",
   "execution_count": null,
   "id": "2bad44b8",
   "metadata": {},
   "outputs": [],
   "source": [
    "# 200 -> Funcionou\n",
    "# 404 -> Não encontrado\n",
    "# 500 -> Servidor não disponível\n",
    "#buscando informações, por isso o uso do get"
   ]
  },
  {
   "cell_type": "code",
   "execution_count": 5,
   "id": "3fa12ea3",
   "metadata": {},
   "outputs": [
    {
     "name": "stdout",
     "output_type": "stream",
     "text": [
      "A temperatura atual é 21°C.\n",
      "Celsius -> Kelvin: 294\n",
      "Celsius -> Fahnheit: 71\n"
     ]
    }
   ],
   "source": [
    "import requests\n",
    "\n",
    "api_key = \"972a7b908bed4449cdc229ad131d2eb0\"\n",
    "cidade = \"sorocaba\"\n",
    "lang = \"pt_br\"\n",
    "link = f\"https://api.openweathermap.org/data/2.5/weather?q={cidade}&appid={api_key}&lang={lang}\"\n",
    "\n",
    "requisicao = requests.get(link)\n",
    "requisicao_dic = requisicao.json()\n",
    "descricao = requisicao_dic['weather'][0]\n",
    "temperaturaKelvin = requisicao_dic['main']['temp']\n",
    "temperaturaAtual = requisicao_dic['main']['temp'] - 273.15\n",
    "\n",
    "#Conversor de temperaturas\n",
    "print('A temperatura atual é {:.0f}°C.'.format(temperaturaAtual)) \n",
    "\n",
    "celsiusK = temperaturaAtual + 273\n",
    "celsiusF = (temperaturaAtual * 1.8) + 32\n",
    "\n",
    "print('Celsius -> Kelvin: {:.0f}'.format(celsiusK))\n",
    "print('Celsius -> Fahnheit: {:.0f}'.format(celsiusF))\n",
    "\n",
    "\n",
    "\n"
   ]
  },
  {
   "cell_type": "code",
   "execution_count": 47,
   "id": "4bd3fd2c",
   "metadata": {},
   "outputs": [],
   "source": [
    "#972a7b908bed4449cdc229ad131d2eb0 (Minha chave de API)\n",
    "#Conversor de temperaturas atual\n"
   ]
  },
  {
   "cell_type": "markdown",
   "id": "a4f15aaa",
   "metadata": {},
   "source": [
    "* **15**: Escreva um programa que pergunte a quantidade de KM percorridos por um carro alugado e a quantidade de dias que foi alugada.\n",
    "\n",
    "    * Calcule o preço a pagar, sabendo que por dia o aluguel custa R 60,00 e o R 0,15 km percorrido."
   ]
  },
  {
   "cell_type": "code",
   "execution_count": 9,
   "id": "e869088e",
   "metadata": {},
   "outputs": [
    {
     "name": "stdout",
     "output_type": "stream",
     "text": [
      "Quantos quilometros foram percorridos? 5\n",
      "E quantos dias? 4\n",
      "Você percorreu 5.00km, por 4 dias. \n",
      "Valor total a ser pago R$ 240.75.\n"
     ]
    }
   ],
   "source": [
    "quant_km = input('Quantos quilometros foram percorridos? ')\n",
    "dias_aluguel = input('E quantos dias? ')\n",
    "\n",
    "float_km = float(quant_km)\n",
    "int_dias = int(dias_aluguel)\n",
    "\n",
    "valor_dias = int_dias * 60\n",
    "valor_km = float_km * 0.15\n",
    "\n",
    "total_pagar = valor_dias + valor_km\n",
    "\n",
    "print(f'Você percorreu {float_km:.2f}km, por {int_dias} dias. \\nValor total a ser pago R$ {total_pagar:.2f}.')"
   ]
  },
  {
   "cell_type": "markdown",
   "id": "b6978fe1",
   "metadata": {},
   "source": [
    "* **16**: Crie um programa que leia um número real, e mostre na tela sua porção inteiro.\n"
   ]
  },
  {
   "cell_type": "code",
   "execution_count": 18,
   "id": "0d377ad8",
   "metadata": {},
   "outputs": [
    {
     "name": "stdout",
     "output_type": "stream",
     "text": [
      "Digite um número com casas decimais, use o . :2.6\n",
      "A porção inteira para cima é 3, e para baixo é 2.\n"
     ]
    }
   ],
   "source": [
    "import math\n",
    "\n",
    "numeroReal = float(input('Digite um número com casas decimais, use o . :'))\n",
    "\n",
    "apxCima = math.ceil(numeroReal)\n",
    "apxBaixo = math.floor(numeroReal)\n",
    "\n",
    "print('A porção inteira para cima é {}, e para baixo é {}.'.format(apxCima, apxBaixo))"
   ]
  },
  {
   "cell_type": "markdown",
   "id": "192666ba",
   "metadata": {},
   "source": [
    "* **17**: Faça um programa que leia o comprimento do cateto oposto e do cateto adjacente de um triângulo retângulo, calcule e mostre o comprimento da hipotenusa."
   ]
  },
  {
   "cell_type": "code",
   "execution_count": 16,
   "id": "424ad147",
   "metadata": {},
   "outputs": [
    {
     "name": "stdout",
     "output_type": "stream",
     "text": [
      "Digite o valor do cateto oposto: 3\n",
      "Digite o valor do cateto adjacente: 4\n",
      "O comprimento da hipotenusa é 5.0!\n"
     ]
    }
   ],
   "source": [
    "import math\n",
    "\n",
    "cateto_ops = float(input('Digite o valor do cateto oposto: '))\n",
    "cateto_adj = float(input('Digite o valor do cateto adjacente: '))\n",
    "\n",
    "calculo = math.pow(cateto_ops, 2) + math.pow(cateto_adj, 2)\n",
    "hipotenusa = math.sqrt(calculo)\n",
    "\n",
    "print(f'O comprimento da hipotenusa é {hipotenusa}!')"
   ]
  },
  {
   "cell_type": "markdown",
   "id": "3e9e2078",
   "metadata": {},
   "source": [
    "* **18**: Faça um programa que leia um ângulo qualquer e mostre na tela o valor de seno, cosseno e tangente"
   ]
  },
  {
   "cell_type": "code",
   "execution_count": null,
   "id": "7e0a8ee1",
   "metadata": {},
   "outputs": [],
   "source": []
  },
  {
   "cell_type": "markdown",
   "id": "34adcf49",
   "metadata": {},
   "source": [
    "* **19**: Um professor que sortear um dos seus quatro alunos para apagar o quadro. Faça um programa que ajude ele, lendo o nome deles e escrevendo o nome do escolhido."
   ]
  },
  {
   "cell_type": "code",
   "execution_count": 38,
   "id": "4a6cb220",
   "metadata": {},
   "outputs": [
    {
     "name": "stdout",
     "output_type": "stream",
     "text": [
      "Digite o nome do aluno: aa\n",
      "Digite o nome do aluno: bb\n",
      "Digite o nome do aluno: cc\n",
      "Digite o nome do aluno: dd\n",
      "O aluno escolhido foi dd!\n"
     ]
    }
   ],
   "source": [
    "import random\n",
    "\n",
    "lista_nome = []\n",
    "for nome in range(0, 4):\n",
    "    nomes = input('Digite o nome do aluno: ')\n",
    "    lista_nome.append(nomes)\n",
    "    \n",
    "escolha = random.choice(lista_nome)   \n",
    "print(f'O aluno escolhido foi {escolha}!')"
   ]
  },
  {
   "cell_type": "markdown",
   "id": "4c12ec19",
   "metadata": {},
   "source": [
    "* **20**: O mesmo professor do desafio anterior quer sortear a ordem de apresentação de trabalho dos alunos.Faça um programa que leia o nome dos quatro alunos e mostre a ordem sorteada."
   ]
  },
  {
   "cell_type": "code",
   "execution_count": 47,
   "id": "36201bae",
   "metadata": {},
   "outputs": [
    {
     "name": "stdout",
     "output_type": "stream",
     "text": [
      "Digite o nome do aluno: aa\n",
      "Digite o nome do aluno: bb\n",
      "Digite o nome do aluno: cc\n",
      "Digite o nome do aluno: dd\n",
      "A ordem escolhida foi ['cc', 'aa', 'bb', 'dd']!\n"
     ]
    }
   ],
   "source": [
    "import random\n",
    "\n",
    "lista_nome = []\n",
    "for nome in range(0, 4):\n",
    "    nomes = input('Digite o nome do aluno: ')\n",
    "    lista_nome.append(nomes)\n",
    "    \n",
    "random.shuffle(lista_nome)\n",
    "\n",
    "print(f'A ordem escolhida foi {lista_nome}!')"
   ]
  },
  {
   "cell_type": "markdown",
   "id": "9cb5873e",
   "metadata": {},
   "source": [
    "* **21**: Faça um programa em python que abra e reproduza o áudio em um arquivo mp3."
   ]
  },
  {
   "cell_type": "code",
   "execution_count": null,
   "id": "2c9d3e6a",
   "metadata": {},
   "outputs": [],
   "source": []
  },
  {
   "cell_type": "markdown",
   "id": "e4ab3abb",
   "metadata": {},
   "source": [
    "* **22**: Crie um programa que leia o nome completo de uma pessoa e mostre:\n",
    "    * O nome com todas as letras maiúsculas.\n",
    "    * Com todas minúsculas.\n",
    "    * Quantas letras possui.\n",
    "    * Quantas letras tem o primeiro nome."
   ]
  },
  {
   "cell_type": "code",
   "execution_count": 2,
   "id": "b5c20d62",
   "metadata": {},
   "outputs": [
    {
     "name": "stdout",
     "output_type": "stream",
     "text": [
      "Digite seu nome completo: Mayara Santos\n",
      "MAYARA SANTOS mayara santos 13 1 6\n"
     ]
    }
   ],
   "source": [
    "nome_completo = input('Digite seu nome completo: ')\n",
    "letras_mais = nome_completo.upper()\n",
    "letras_min = nome_completo.lower()\n",
    "exc_esp = nome_completo.strip()\n",
    "quant = len(exc_esp)\n",
    "dividindo = nome_completo.split()\n",
    "tam_div = len(dividindo[0])\n",
    "quant_prim = len(nome_completo[0])\n",
    "print(letras_mais, letras_min, quant, quant_prim, tam_div)"
   ]
  },
  {
   "cell_type": "markdown",
   "id": "b0774484",
   "metadata": {},
   "source": [
    "* **23**: Faça um programa que leia um número de 0 a 9999 e mostre na tela cada uma dos dígitos separados."
   ]
  },
  {
   "cell_type": "code",
   "execution_count": 29,
   "id": "4d05d449",
   "metadata": {},
   "outputs": [
    {
     "name": "stdout",
     "output_type": "stream",
     "text": [
      "Digite um número até 9999 - 321564\n",
      "Você digitou um número fora do esperado!\n"
     ]
    }
   ],
   "source": [
    "numero = input('Digite um número até 9999 - ')\n",
    "\n",
    "try:\n",
    "    numero_int = int(numero)\n",
    "    condicao = numero_int <= 9999\n",
    "\n",
    "    if condicao:\n",
    "        lista = []\n",
    "        for separador in numero:\n",
    "            lista.append(separador)\n",
    "            \n",
    "        print(f'Os valores separador ficam dessa forma: {lista}')\n",
    "    else:\n",
    "        print('Você digitou um número fora do esperado!')\n",
    "        \n",
    "except:\n",
    "    print('Digite não digitou um número!')"
   ]
  },
  {
   "cell_type": "markdown",
   "id": "4305f2d1",
   "metadata": {},
   "source": [
    "* **24**: Crie um programa que leia o nome de uma cidade e diga se ela começa ou não com o nome \"Santo\"."
   ]
  },
  {
   "cell_type": "code",
   "execution_count": 47,
   "id": "acca92aa",
   "metadata": {},
   "outputs": [
    {
     "name": "stdout",
     "output_type": "stream",
     "text": [
      "Digite o nome da Cidade: Espirito Santos\n",
      "Existe!\n"
     ]
    }
   ],
   "source": [
    "nome_cidade = input('Digite o nome da Cidade: ')\n",
    "\n",
    "nome_min = nome_cidade.lower()\n",
    "    \n",
    "if 'santo' in nome_min:\n",
    "    print('Existe!')\n",
    "else:\n",
    "    print('Não existe!')"
   ]
  },
  {
   "cell_type": "markdown",
   "id": "e2f88c21",
   "metadata": {},
   "source": [
    "* **25**: Crie um programa que leia um nome de uma pessoa e diga se ela tem \"Silva\" no no nome."
   ]
  },
  {
   "cell_type": "code",
   "execution_count": 52,
   "id": "3b74556b",
   "metadata": {},
   "outputs": [
    {
     "name": "stdout",
     "output_type": "stream",
     "text": [
      "Qual é o seu nome?Mayara Silva3\n",
      "Existe!\n"
     ]
    }
   ],
   "source": [
    "nome = input('Qual é o seu nome?')\n",
    "\n",
    "nome_min = nome.lower()\n",
    "    \n",
    "if 'silva' in nome_min:\n",
    "    print('Existe!')\n",
    "else:\n",
    "    print('Não existe!')"
   ]
  },
  {
   "cell_type": "markdown",
   "id": "a2f42348",
   "metadata": {},
   "source": [
    "* **26**: Faça um programa que leia uma frase pelo teclado e mostre:\n",
    "    * Quantas vezes aparece a letra \"A\".\n",
    "    * Em que posição ela aparece a primeira vez.\n",
    "    * Em que posição ela aparece a última vez."
   ]
  },
  {
   "cell_type": "code",
   "execution_count": 21,
   "id": "becc98c4",
   "metadata": {},
   "outputs": [
    {
     "name": "stdout",
     "output_type": "stream",
     "text": [
      "Essa é quantidade de vezes que a letra \"a\" aparece: 5.\n",
      "Essa é a posição em que ela aparece a primeira vez: 10.\n",
      "Essa é a posição em que ela aparece a última vez: 38\n"
     ]
    }
   ],
   "source": [
    "frase = 'Bem vindo ao universo python, Mayara Santos'\n",
    "cont_a = frase.count('a')\n",
    "firts = frase.find('a')\n",
    "last = frase.rfind('a')\n",
    "\n",
    "print(f'Essa é quantidade de vezes que a letra \"a\" aparece: {cont_a}.\\nEssa é a posição em que ela aparece a primeira vez: {firts}.\\nEssa é a posição em que ela aparece a última vez: {last}')"
   ]
  },
  {
   "cell_type": "markdown",
   "id": "f60b7276",
   "metadata": {},
   "source": [
    "* **27**: Faça um programa que leia o nome de uma pessoa, e mostre em seguida o primeiro e o segundo nome separadamente."
   ]
  },
  {
   "cell_type": "code",
   "execution_count": 5,
   "id": "c1bbc806",
   "metadata": {},
   "outputs": [
    {
     "name": "stdout",
     "output_type": "stream",
     "text": [
      "Qual é o seu nome? Mayara Santos\n",
      "Seu primeiro nome é Mayara, e o seu segundo nome é Santos.\n"
     ]
    }
   ],
   "source": [
    "name = input('Qual é o seu nome? ')\n",
    "name_str = name.split()\n",
    "firts_name = name_str[0]\n",
    "\n",
    "print(f'Seu primeiro nome é {firts_name}, e o seu segundo nome é {name_str[1]}.')"
   ]
  },
  {
   "cell_type": "markdown",
   "id": "78aa3a79",
   "metadata": {},
   "source": [
    "* **28**: Escreva um programa que faça o computador \"pensar\" em um número inteiro de 0 a 5, e peça para usuario tentar descobrir:\n",
    "     * O número escolhido pelo computador.\n",
    "     * O programa deverá escrever na tela se o usuário venceu ou o computador.\n"
   ]
  },
  {
   "cell_type": "code",
   "execution_count": 59,
   "id": "c7127300",
   "metadata": {},
   "outputs": [
    {
     "name": "stdout",
     "output_type": "stream",
     "text": [
      "Tente descobrir o número do computador: de 0 a 5!!\n",
      "\n",
      "Digite um Número inteiro: 2\n",
      "Infelizmente você errou!\n",
      "O número que você digitou é 2 e o computador pensou em 5.\n"
     ]
    }
   ],
   "source": [
    "import random \n",
    "\n",
    "print('Tente descobrir o número do computador: de 0 a 5!!')\n",
    "num = input('\\nDigite um Número inteiro: ')\n",
    "\n",
    "try:\n",
    "    num_int = int(num)\n",
    "    computador = random.randint(0, 5)\n",
    "    \n",
    "    if num_int == computador: \n",
    "        print(f'Parabéns!! O número que você digitou é {num_int} e o computador pensou em {computador}.')\n",
    "    else:\n",
    "        print(f'Infelizmente você errou!\\nO número que você digitou é {num_int} e o computador pensou em {computador}.')\n",
    "    \n",
    "\n",
    "except:\n",
    "    print('Você não digitou um número!')"
   ]
  },
  {
   "cell_type": "markdown",
   "id": "aa32a15a",
   "metadata": {},
   "source": [
    "* **29**: Escreva um programa que leia a velocidade de um carro:\n",
    "    * Se ele ultrapassar 80KM/H, mostre uma mensagem dizendo que ele foi multado.\n",
    "    * A multa vai custar R$ 7,00 por cada km acima do limite."
   ]
  },
  {
   "cell_type": "code",
   "execution_count": 58,
   "id": "512506a0",
   "metadata": {},
   "outputs": [
    {
     "name": "stdout",
     "output_type": "stream",
     "text": [
      "Qual é a sua velocidade? 150\n",
      "Você levou multa, deve pagar R$ 490.00\n"
     ]
    }
   ],
   "source": [
    "velocidade = input('Qual é a sua velocidade? ')\n",
    "\n",
    "veloc_float = float(velocidade)\n",
    "MULTA = 7\n",
    "ULTRAPASSAGEM = 80\n",
    "\n",
    "if veloc_float > ULTRAPASSAGEM:\n",
    "    valor_pagar = (veloc_float - ULTRAPASSAGEM) * MULTA\n",
    "    print(f'Você levou multa, deve pagar R$ {valor_pagar:.2f}')\n",
    "else:\n",
    "    print(f'Parabéns! Você não foi multado!')\n"
   ]
  },
  {
   "cell_type": "markdown",
   "id": "d69f3d27",
   "metadata": {},
   "source": [
    "* **30**: Crie um programa que leia um número inteiro e mostre na tela se ele é impar ou par."
   ]
  },
  {
   "cell_type": "code",
   "execution_count": 60,
   "id": "2877a2de",
   "metadata": {},
   "outputs": [
    {
     "name": "stdout",
     "output_type": "stream",
     "text": [
      "Digite um número: 5\n",
      "O número é ímpar!\n"
     ]
    }
   ],
   "source": [
    "numero = input('Digite um número: ')\n",
    "num_int = int(numero)\n",
    "\n",
    "par = (num_int % 2) == 0\n",
    "\n",
    "if par:\n",
    "    print('O número é par!')\n",
    "else:\n",
    "    print('O número é ímpar!')"
   ]
  },
  {
   "cell_type": "markdown",
   "id": "896eec51",
   "metadata": {},
   "source": [
    "* **31**: Desenvolva um programa que pergunte a distância de uma viagem em KM.\n",
    "    * Calcule o preço da passagem, cobrando R$ 0,50 km para viagens até 200KM.\n",
    "    \n",
    "    * E R$ 0,45 para viagens mais longas."
   ]
  },
  {
   "cell_type": "code",
   "execution_count": 67,
   "id": "ec486332",
   "metadata": {},
   "outputs": [
    {
     "name": "stdout",
     "output_type": "stream",
     "text": [
      "Qual é a distância da sua viagem em KM? 201\n",
      "O valor a ser pago é R$ 90.45\n"
     ]
    }
   ],
   "source": [
    "km = input('Qual é a distância da sua viagem em KM? ')\n",
    "km_float = float(km)\n",
    "\n",
    "valor_km_200 = 0.5\n",
    "valor_km_longas = 0.45\n",
    "\n",
    "if km_float <= 200:\n",
    "    valor_pagar = km_float * valor_km_200\n",
    "    print(f'O valor a ser pago é R$ {valor_pagar:.2f}')\n",
    "else:\n",
    "    valor_pagar = km_float * valor_km_longas\n",
    "    print(f'O valor a ser pago é R$ {valor_pagar:.2f}')"
   ]
  },
  {
   "cell_type": "markdown",
   "id": "f799b131",
   "metadata": {},
   "source": [
    "* **32**: Faça um programa que leia um ano qualquer e mostre se ele é bissexto.\n"
   ]
  },
  {
   "cell_type": "code",
   "execution_count": null,
   "id": "c6a1ecd1",
   "metadata": {},
   "outputs": [],
   "source": []
  },
  {
   "cell_type": "markdown",
   "id": "da6eb468",
   "metadata": {},
   "source": [
    "* **33**: Faça um programa que leia três números e mostre qual é maior, e o menor"
   ]
  },
  {
   "cell_type": "code",
   "execution_count": 92,
   "id": "990155fb",
   "metadata": {},
   "outputs": [
    {
     "name": "stdout",
     "output_type": "stream",
     "text": [
      "Digite o nome do aluno: 4\n",
      "Digite o nome do aluno: 5\n",
      "Digite o nome do aluno: 6\n",
      "6, 4\n"
     ]
    }
   ],
   "source": [
    "import random\n",
    "\n",
    "lista_num = []\n",
    "for num in range(0, 3):\n",
    "    numero = input('Digite o nome do aluno: ')\n",
    "    lista_num.append(numero)\n",
    "\n",
    "lista_num.sort(reverse=True)\n",
    "print(f'O maior número é {lista_num[0]}, e o menor é {lista_num[2]}')\n"
   ]
  },
  {
   "cell_type": "markdown",
   "id": "830afe44",
   "metadata": {},
   "source": [
    "* **34**: Escreva um programa que pergunte o salário de um funcionário e calcule o valor do seu aumento\n",
    "    * Para salários superiores a R$ 1250,00 aumento de 10%.\n",
    "    * Para os inferiores ou iguais, o aumento é de 15%"
   ]
  },
  {
   "cell_type": "code",
   "execution_count": 87,
   "id": "42b3d555",
   "metadata": {},
   "outputs": [
    {
     "name": "stdout",
     "output_type": "stream",
     "text": [
      "Qual é o valor do seu salário? 2\n",
      "Você recebeu um aumento de 15%, o seu salário passará a ser R$2.30.\n"
     ]
    }
   ],
   "source": [
    "# Constantes\n",
    "sal = input('Qual é o valor do seu salário? ')\n",
    "\n",
    "try:\n",
    "    sal_float = float(sal)\n",
    "    \n",
    "    sal_superior = sal_float > 1250.00\n",
    "    sal_inf = sal_float <= 1250.00\n",
    "    \n",
    "    if sal_superior:\n",
    "        valor_receber = (sal_float * 0.10) + sal_float\n",
    "        print(f'Você recebeu um aumento de 10%, o seu salário passará a ser R${valor_receber:.2f}.')\n",
    "    else:\n",
    "        valor_receber = (sal_float * 0.15) + sal_float\n",
    "        print(f'Você recebeu um aumento de 15%, o seu salário passará a ser R${valor_receber:.2f}.')\n",
    "    \n",
    "except:\n",
    "    print('Você não digitou números!!')\n"
   ]
  },
  {
   "cell_type": "markdown",
   "id": "eba12d65",
   "metadata": {},
   "source": [
    "* **035**: Desenvolva um programa que leia o comprimento de 3 restas e diga ao usuário se elas podem formar um triângulo."
   ]
  },
  {
   "cell_type": "code",
   "execution_count": 16,
   "id": "638f8470",
   "metadata": {
    "scrolled": true
   },
   "outputs": [
    {
     "name": "stdout",
     "output_type": "stream",
     "text": [
      "Digite o comprimento:5\n",
      "Digite o comprimento:10\n",
      "Digite o comprimento:9\n",
      "É um triângulo!\n",
      "True True True\n"
     ]
    }
   ],
   "source": [
    "\n",
    "lista_arestas = []\n",
    "for i in range(3):\n",
    "    comprimento = input('Digite o comprimento:')\n",
    "    \n",
    "    comprimento_int = int(comprimento)\n",
    "    lista_arestas.append(comprimento_int)\n",
    "    \n",
    "    \n",
    "a = lista_arestas[0]\n",
    "b = lista_arestas[1]\n",
    "c = lista_arestas[2]\n",
    "\n",
    "prim_ver = abs(b - c) < a < b + c \n",
    "segu_ver = abs(a - c) < b < a + c\n",
    "terc_ver = abs(a - b) < c < a + b\n",
    "\n",
    "if prim_ver and segu_ver and terc_ver:\n",
    "    print(f'É um triângulo!')\n",
    "else:\n",
    "    print('Não é um triângulo!')\n"
   ]
  },
  {
   "cell_type": "markdown",
   "id": "d244ca01",
   "metadata": {},
   "source": [
    "* **36**: Escreva um programa para aprovar um empréstimo bancário para compra de uma casa. \n",
    "O programa vai perguntar o **valor da casa**, o **sálario do comprador** e em **quantos anos** ele vai pagar. \n",
    "E calcule o valor da **prestação mensal**, sabendo que ela **não pode excerder 30% do salário**, ou então o empréstimo será negado!\n"
   ]
  },
  {
   "cell_type": "code",
   "execution_count": 11,
   "id": "a30174e7",
   "metadata": {},
   "outputs": [
    {
     "name": "stdout",
     "output_type": "stream",
     "text": [
      "Digite o valor da casa: 150000\n",
      "Qual é o valor o seu sálario? 1200\n",
      "Em quantos anos pretende pagar? 20\n",
      "\n",
      "O valor da casa é R$ 150000.0, onde o valor da prestação mensal R$625.0, ultrapassa 30% do seu sálario atual correspondente a R$360.0 \n",
      "Empréstimo Negado!\n"
     ]
    }
   ],
   "source": [
    "vlr_casa = input('Digite o valor da casa: ')\n",
    "vlr_sal = input('Qual é o valor o seu sálario? ')\n",
    "quant_ano = input('Em quantos anos pretende pagar? ')\n",
    "\n",
    "\n",
    "vlr_casa_float = float(vlr_casa)\n",
    "vlr_sal_float = float(vlr_sal)\n",
    "quant_ano_float = float(quant_ano)\n",
    "    \n",
    "ano_meses = quant_ano_float * 12\n",
    "    \n",
    "prest_mensal = vlr_casa_float / ano_meses\n",
    "perc_sal = vlr_sal_float * 0.3\n",
    "\n",
    "if prest_mensal <= perc_sal:\n",
    "    print(f'O valor da casa é R$ {vlr_casa_float}, então o valor a ser pago em {ano_meses} meses é de R$ {prest_mensal}')\n",
    "else:\n",
    "    print(f'\\nO valor da casa é R$ {vlr_casa_float}, onde o valor da prestação mensal R${prest_mensal}, ultrapassando 30% do seu sálario atual correspondente a R${perc_sal} \\nEmpréstimo Negado!')\n",
    "    \n"
   ]
  },
  {
   "cell_type": "markdown",
   "id": "8aff95c1",
   "metadata": {},
   "source": [
    "* **37**: Escreva um programa que leia um númerio inteiro qualquer, e peça para o usuário escolher qual será a base de conversão.\n",
    "    - 1: Binário\n",
    "    - 2: Octal\n",
    "    - 3: Hexadecimal"
   ]
  },
  {
   "cell_type": "code",
   "execution_count": 6,
   "id": "fc5d02a9",
   "metadata": {
    "scrolled": true
   },
   "outputs": [
    {
     "name": "stdout",
     "output_type": "stream",
     "text": [
      "Digite um número inteiro qualquer: 2\n",
      "\n",
      "Deseja converter em qual base?\n",
      "[1] Binário ; [2] Octal ; [3] Hexadecimal: 2\n"
     ]
    }
   ],
   "source": [
    "numero = int(input('Digite um número inteiro qualquer: '))\n",
    "\n",
    "print()\n",
    "print('Deseja converter em qual base?')\n",
    "base = int(input('[1] Binário ; [2] Octal ; [3] Hexadecimal: '))"
   ]
  },
  {
   "cell_type": "markdown",
   "id": "76ec91c2",
   "metadata": {},
   "source": [
    "* **38**: Escreva um programa que leia dois números inteiros, e compare-os, mostrando na tela uma mensagem:\n",
    "    - O primeiro valor é maior\n",
    "    - O segundo valor é maior\n",
    "    - Não existe valor maior, os dois são iguais"
   ]
  },
  {
   "cell_type": "code",
   "execution_count": 1,
   "id": "bc03eaff",
   "metadata": {},
   "outputs": [
    {
     "name": "stdout",
     "output_type": "stream",
     "text": [
      "Digite um valor: 5\n",
      "Digite um valor: 2\n",
      "O primeiro valor é 5, e o segundo valor é 2. Portando o primeiro valor é maior!\n"
     ]
    }
   ],
   "source": [
    "primeiroValor = int(input('Digite um valor: '))\n",
    "segundoValor = int(input('Digite um valor: '))\n",
    "\n",
    "if primeiroValor > segundoValor:\n",
    "    print('O primeiro valor é {}, e o segundo valor é {}. Portando o primeiro valor é maior!'.format(primeiroValor, segundoValor))\n",
    "elif segundoValor > primeiroValor:\n",
    "    print('O segundo valor é {}, e o primeiro valor é {}. Portando o segundo valor é maior!'.format(segundoValor, primeiroValor))\n",
    "#elif primeiroValor == segundoValor:\n",
    " #   print('O números são iguais!!')\n",
    "else:\n",
    "    print('O números são iguais!')"
   ]
  },
  {
   "cell_type": "code",
   "execution_count": 109,
   "id": "67e53ce3",
   "metadata": {},
   "outputs": [
    {
     "name": "stdout",
     "output_type": "stream",
     "text": [
      "Collecting datetime\n",
      "  Downloading DateTime-5.1-py3-none-any.whl (52 kB)\n",
      "                                              0.0/52.1 kB ? eta -:--:--\n",
      "     -------------------------------------- 52.1/52.1 kB 890.7 kB/s eta 0:00:00\n",
      "Collecting zope.interface (from datetime)\n",
      "  Downloading zope.interface-6.0-cp311-cp311-win_amd64.whl (204 kB)\n",
      "                                              0.0/204.1 kB ? eta -:--:--\n",
      "     --------------------------------       174.1/204.1 kB 2.1 MB/s eta 0:00:01\n",
      "     ------------------------------------   194.6/204.1 kB 1.7 MB/s eta 0:00:01\n",
      "     -------------------------------------- 204.1/204.1 kB 1.4 MB/s eta 0:00:00\n",
      "Collecting pytz (from datetime)\n",
      "  Downloading pytz-2023.3-py2.py3-none-any.whl (502 kB)\n",
      "                                              0.0/502.3 kB ? eta -:--:--\n",
      "     ---------                                122.9/502.3 kB ? eta -:--:--\n",
      "     ------------------                     245.8/502.3 kB 2.5 MB/s eta 0:00:01\n",
      "     ---------------------                  286.7/502.3 kB 2.0 MB/s eta 0:00:01\n",
      "     ---------------------------            368.6/502.3 kB 1.8 MB/s eta 0:00:01\n",
      "     ------------------------------         399.4/502.3 kB 1.6 MB/s eta 0:00:01\n",
      "     -------------------------------------  501.8/502.3 kB 1.6 MB/s eta 0:00:01\n",
      "     -------------------------------------  501.8/502.3 kB 1.6 MB/s eta 0:00:01\n",
      "     -------------------------------------  501.8/502.3 kB 1.6 MB/s eta 0:00:01\n",
      "     -------------------------------------  501.8/502.3 kB 1.6 MB/s eta 0:00:01\n",
      "     ------------------------------------ 502.3/502.3 kB 925.0 kB/s eta 0:00:00\n",
      "Requirement already satisfied: setuptools in c:\\users\\mayara sabrina\\appdata\\local\\programs\\python\\python311\\lib\\site-packages (from zope.interface->datetime) (65.5.0)\n",
      "Installing collected packages: pytz, zope.interface, datetime\n",
      "Successfully installed datetime-5.1 pytz-2023.3 zope.interface-6.0\n"
     ]
    }
   ],
   "source": [
    "!pip install datetime"
   ]
  },
  {
   "cell_type": "markdown",
   "id": "802c3d16",
   "metadata": {},
   "source": [
    "* **39**: Crie um programa que leia o ano de nascimento de um jovem e informe, de acordo com a sua idade:\n",
    "    - Ainda vai se alistar ao serviço militar\n",
    "    - É a hora de se alistar\n",
    "    - Já passou do tempo de alistamento\n",
    "    \n",
    " O programa também deverá mostra o tempo que falta ou que passou do prazo"
   ]
  },
  {
   "cell_type": "code",
   "execution_count": 132,
   "id": "a5191ffa",
   "metadata": {},
   "outputs": [
    {
     "name": "stdout",
     "output_type": "stream",
     "text": [
      "Qual é o ano do seu nascimento? 1999\n",
      "Qual é o seu sexo? [F]emininho [M]asculino: m\n",
      "\n",
      "Já passou o tempo de alistamento!\n"
     ]
    }
   ],
   "source": [
    "import datetime\n",
    "\n",
    "ano_nascimento = input('Qual é o ano do seu nascimento? ')\n",
    "seu_sexo = input('Qual é o seu sexo? [F]emininho [M]asculino: ').upper()\n",
    "ano_nasc_int = int(ano_nascimento)\n",
    "\n",
    "ano_atual = datetime.datetime.now().year\n",
    "ano_int = int(ano_atual)\n",
    "\n",
    "idade = ano_int - ano_nasc_int\n",
    "#sexo = ['F', 'M']\n",
    "\n",
    "ainda_alista = idade < 18\n",
    "hora_alista = idade == 18 \n",
    "passou_alista = idade > 18\n",
    "\n",
    "sexo = seu_sexo == 'M'\n",
    "\n",
    "if sexo and ainda_alista:\n",
    "       print('\\nVocê ainda vai se alistar!')\n",
    "elif sexo and hora_alista:\n",
    "    print('\\nEstá em tempo de alistamento!')\n",
    "elif sexo and passou_alista:\n",
    "    print('\\nJá passou o tempo de alistamento!')\n",
    "else:\n",
    "    print('\\nVocê não tem a obrigatoriedade de alistamento!')\n",
    "    \n",
    "#print(ano_int, idade)"
   ]
  },
  {
   "cell_type": "markdown",
   "id": "29424afd",
   "metadata": {},
   "source": [
    "* **40**: Crie um programa que leia duas notas de um aluno e calcule sua média, mostrando uma mensagem no final de acordo com a média.\n",
    "    - Média abaixo de 5.0: Reprovado\n",
    "    - Média entre 5.0 e 6.9: Recuperação\n",
    "    - Média 7.0 ou superior: Aprovado"
   ]
  },
  {
   "cell_type": "code",
   "execution_count": 93,
   "id": "0153fdc4",
   "metadata": {},
   "outputs": [
    {
     "name": "stdout",
     "output_type": "stream",
     "text": [
      "Digite sua primeira nota: 10\n",
      "Digite sua segunda nota: 2\n",
      "Você está de Recuperação!\n"
     ]
    }
   ],
   "source": [
    "nota01 = float(input('Digite sua primeira nota: '))\n",
    "nota02 = float(input('Digite sua segunda nota: '))\n",
    "media = (nota01 + nota02) / 2\n",
    "\n",
    "if media < 5.0:\n",
    "    print('Reprovado!')\n",
    "elif (media >= 5.0) and (media <= 6.9):\n",
    "    print('Você está de Recuperação!')\n",
    "elif media >= 7.0:\n",
    "    print('Parabéns você foi aprovado!')"
   ]
  },
  {
   "cell_type": "markdown",
   "id": "960d572f",
   "metadata": {},
   "source": [
    "* **41**: A confederação nacional de natação precisa de um programa que leia o ano de nascimento de um atleta e mostre a sua categoria conforme a idade:\n",
    "    * até 9 anos: Mirim\n",
    "    * até 14 anos: Infantil\n",
    "    * até 19 anos: Junior\n",
    "    * até 25 anos: sênior\n",
    "    * Acima: Master\n",
    "    "
   ]
  },
  {
   "cell_type": "code",
   "execution_count": 146,
   "id": "18e0feed",
   "metadata": {},
   "outputs": [
    {
     "name": "stdout",
     "output_type": "stream",
     "text": [
      "Qual é o ano do seu nascimento? 2008\n",
      "Você tem 15 anos.\n",
      "Sua faixa é Junior!\n"
     ]
    }
   ],
   "source": [
    "import datetime\n",
    "\n",
    "ano_nascimento = input('Qual é o ano do seu nascimento? ')\n",
    "ano_nasc_int = int(ano_nascimento)\n",
    "\n",
    "ano_atual = datetime.datetime.now().year\n",
    "ano_int = int(ano_atual)\n",
    "\n",
    "idade = ano_int - ano_nasc_int\n",
    "\n",
    "mirim = idade >= 5 and idade <= 9\n",
    "infantil = idade >= 10 and idade <= 14 \n",
    "junior = idade >= 15 and idade <= 19\n",
    "senior = idade >= 20 and idade <= 25\n",
    "master = idade >= 26\n",
    "\n",
    "if mirim:\n",
    "    print(f'Você tem {idade} anos.\\nSua faixa é Mirim!')\n",
    "elif infantil:\n",
    "    print(f'Você tem {idade} anos.\\nSua faixa é Infantil!')\n",
    "elif junior:\n",
    "    print(f'Você tem {idade} anos.\\nSua faixa é Junior!')\n",
    "elif senior:\n",
    "    print(f'Você tem {idade} anos.\\nSua faixa é Senior!')\n",
    "elif master:\n",
    "    print(f'Você tem {idade} anos.\\nSua faixa é Master!')\n",
    "else:\n",
    "    print(f'Você tem {idade} anos.\\nSua faixa não existe! Espere mais alguns anos :)')"
   ]
  },
  {
   "cell_type": "markdown",
   "id": "74135165",
   "metadata": {},
   "source": [
    "* **42**: Refaça o desafio 035, acrescentando o recurso de mostrar que tipo de triângulo será formado\n",
    "    * Equilátero: todos os lados iguais\n",
    "    * Isósceles: dois lados iguais\n",
    "    * Escaleno: todos os lados diferentes"
   ]
  },
  {
   "cell_type": "code",
   "execution_count": 29,
   "id": "bd6c8b27",
   "metadata": {},
   "outputs": [
    {
     "name": "stdout",
     "output_type": "stream",
     "text": [
      "Digite o comprimento:3\n",
      "Digite o comprimento:4\n",
      "Digite o comprimento:5\n",
      "\n",
      "É um triângulo!\n",
      "\n",
      "É um triângulo escaleno!\n"
     ]
    }
   ],
   "source": [
    "\n",
    "lista_arestas = []\n",
    "for i in range(3):\n",
    "    comprimento = input('Digite o comprimento:')\n",
    "    \n",
    "    comprimento_int = int(comprimento)\n",
    "    lista_arestas.append(comprimento_int)\n",
    "    \n",
    "    \n",
    "a = lista_arestas[0]\n",
    "b = lista_arestas[1]\n",
    "c = lista_arestas[2]\n",
    "\n",
    "prim_ver = abs(b - c) < a < b + c \n",
    "segu_ver = abs(a - c) < b < a + c\n",
    "terc_ver = abs(a - b) < c < a + b\n",
    "\n",
    "\n",
    "if prim_ver and segu_ver and terc_ver:\n",
    "    print(f'\\nÉ um triângulo!')\n",
    "    \n",
    "    equilatero = (a == b == c)\n",
    "    isosceles = (a == b or a == c or b == c)\n",
    "    \n",
    "    if equilatero:\n",
    "        print('\\nÉ um triângulo equilátero!')\n",
    "    elif isosceles:\n",
    "        print('\\nÉ um triângulo isósceles!')\n",
    "    else:\n",
    "        print('\\nÉ um triângulo escaleno!')\n",
    "        \n",
    "else:\n",
    "    print('Não é um triângulo!')\n"
   ]
  },
  {
   "cell_type": "markdown",
   "id": "af01ec0f",
   "metadata": {},
   "source": [
    "* **43**: Desenvolva uma lógica que leia o peso e altura de uma pessoa, calcule seu IMC e mostre seu status de acordo com a tabela:\n",
    "    * Abaixo de 18.5: Abaixo do peso\n",
    "    * Entre 18.5 e 25: Peso ideal\n",
    "    * Entre 25 e 30: Sobrepeso\n",
    "    * 30 e 40: Obesidade\n",
    "    * Acima de 40: Obesidade mórbida"
   ]
  },
  {
   "cell_type": "code",
   "execution_count": null,
   "id": "37b8dec0",
   "metadata": {},
   "outputs": [],
   "source": []
  },
  {
   "cell_type": "markdown",
   "id": "e31584e9",
   "metadata": {},
   "source": [
    "* **44**: Elabore um programa que calcule o valor a ser pago por um produto, considerando o seu preço normal e condições de pagamento.\n",
    "    * À vista dinheiro/pix: 10% de desconto\n",
    "    * À vista no cartão de débito: 5% de desconto\n",
    "    * Em até 2x no cartão de crédito: preço normal\n",
    "    * 3x ou mais no cartão: 20% de juros"
   ]
  },
  {
   "cell_type": "code",
   "execution_count": 101,
   "id": "54a81398",
   "metadata": {},
   "outputs": [
    {
     "name": "stdout",
     "output_type": "stream",
     "text": [
      "Digite o valor a ser pago no produto: ll\n",
      "Infelizmente você não digitou números!\n"
     ]
    }
   ],
   "source": [
    "valor = input('Digite o valor a ser pago no produto: ')\n",
    "\n",
    "try:\n",
    "    \n",
    "    valor_float = float(valor)\n",
    "    \n",
    "    print(\"\"\"\n",
    "    [0] = À vista dinheir/pix - 10% de desconto;\n",
    "    [1] = À vista no débito - 5% de desconto;\n",
    "    [2] = Em até 2x no cartão de crédito - valor normal;\n",
    "    [3] = 3x ou mais no crédito - 20% de juros;\n",
    "    \n",
    "    \\nDigite o número da opção desejada!\n",
    "    \"\"\")\n",
    "    \n",
    "    forma_pag = input('Qual é a sua forma de pagamento? ')\n",
    "        \n",
    "    if forma_pag == '0':\n",
    "        valor_total = (valor_float * 0.10) - valor_float\n",
    "        print(f'O valor a ser pago é {valor_total:.2f}')\n",
    "    elif forma_pag == '1':\n",
    "        valor_total = (valor_float * 0.05) - valor_float\n",
    "        print(f'O valor a ser pago é {valor_total:.2f}')\n",
    "    elif forma_pag == '2':\n",
    "        print(f'O valor a ser pago é {valor_float:.2f}')\n",
    "    else:\n",
    "        valor_total = (valor_float * 0.20) + valor_float\n",
    "        print(f'O valor a ser pago é {valor_total:.2f}')\n",
    "\n",
    "    \n",
    "except:\n",
    "    print('Infelizmente você não digitou números!')"
   ]
  },
  {
   "cell_type": "markdown",
   "id": "c97c13ec",
   "metadata": {},
   "source": [
    "* **45**: Crie um programa que faça o computador jogar JOKENPÔ"
   ]
  },
  {
   "cell_type": "code",
   "execution_count": null,
   "id": "b28201a0",
   "metadata": {},
   "outputs": [],
   "source": []
  },
  {
   "cell_type": "markdown",
   "id": "7f179634",
   "metadata": {},
   "source": [
    "* **46**: Faça um programa que mostre na tela uma contagem regressiva para o estouro de fogos de artfício, indo ae 10 até 0, com pausas de 1 segundo."
   ]
  },
  {
   "cell_type": "code",
   "execution_count": null,
   "id": "d53ff2a8",
   "metadata": {},
   "outputs": [],
   "source": []
  },
  {
   "cell_type": "markdown",
   "id": "aa580521",
   "metadata": {},
   "source": [
    "* **47**: Crie um programa que mostre na tela todos os números pares que estão no intervalo entre 1 e 50."
   ]
  },
  {
   "cell_type": "code",
   "execution_count": null,
   "id": "a03de32e",
   "metadata": {},
   "outputs": [],
   "source": [
    "for i in range(1, 50, 2):\n",
    "        print(i)"
   ]
  },
  {
   "cell_type": "code",
   "execution_count": 116,
   "id": "01735253",
   "metadata": {},
   "outputs": [
    {
     "name": "stdout",
     "output_type": "stream",
     "text": [
      "2 4 6 8 10 12 14 16 18 20 22 24 26 28 30 32 34 36 38 40 42 44 46 48 "
     ]
    }
   ],
   "source": [
    "for i in range(1, 50):\n",
    "    if i % 2 == 0:\n",
    "        print(i, end=' ')"
   ]
  },
  {
   "cell_type": "markdown",
   "id": "c07d8dcf",
   "metadata": {},
   "source": [
    "* **48**: Faça um programa que calcule a soma entre todos os números ímpares que são múltiplos de 3 e que estão no intervalo de 1 ate 500."
   ]
  },
  {
   "cell_type": "code",
   "execution_count": 124,
   "id": "bbd4ae8a",
   "metadata": {},
   "outputs": [
    {
     "name": "stdout",
     "output_type": "stream",
     "text": [
      "\n",
      "A soma é 20667\n"
     ]
    }
   ],
   "source": [
    "\n",
    "soma = 0\n",
    "for i in range(0, 500):\n",
    "    #print(i , end=' ')\n",
    "        \n",
    "    if (i % 2 != 0) and (i % 3 == 0):\n",
    "        soma += i\n",
    "        \n",
    "print(f'\\nA soma é {soma}')       \n",
    "        \n",
    "    \n",
    "        \n",
    "    "
   ]
  },
  {
   "cell_type": "markdown",
   "id": "cf7225f8",
   "metadata": {},
   "source": [
    "* **49**: Refaça o desafio 09, mostrando a tabuada de um número, usando **for**."
   ]
  },
  {
   "cell_type": "code",
   "execution_count": 12,
   "id": "750f8c09",
   "metadata": {},
   "outputs": [
    {
     "name": "stdout",
     "output_type": "stream",
     "text": [
      "Deseja a tabuada de qual número?5\n",
      "5 x 1 = 5\n",
      "5 x 2 = 10\n",
      "5 x 3 = 15\n",
      "5 x 4 = 20\n",
      "5 x 5 = 25\n",
      "5 x 6 = 30\n",
      "5 x 7 = 35\n",
      "5 x 8 = 40\n",
      "5 x 9 = 45\n",
      "5 x 10 = 50\n"
     ]
    }
   ],
   "source": [
    "n = input('Deseja a tabuada de qual número? ')\n",
    "n_int = int(n)\n",
    "\n",
    "for i in range(1, 11):\n",
    "    m = n_int * i \n",
    "    print(f'{n_int} x {i} = {m}')\n",
    "    "
   ]
  },
  {
   "cell_type": "markdown",
   "id": "afdffea5",
   "metadata": {},
   "source": [
    "* **50**: Desenvolva um programa que leia seis números inteiros e mostre a soma apenas daqueles que forem pares. Se o valor digitador for ímpar, desconsidere-o"
   ]
  },
  {
   "cell_type": "code",
   "execution_count": 35,
   "id": "36bff5ee",
   "metadata": {},
   "outputs": [
    {
     "name": "stdout",
     "output_type": "stream",
     "text": [
      "Digite um número inteiro: 1\n",
      "Digite um número inteiro: 2\n",
      "Digite um número inteiro: 1\n",
      "Digite um número inteiro: 2\n",
      "4\n"
     ]
    }
   ],
   "source": [
    "s = 0\n",
    "\n",
    "for i in range(0, 6):\n",
    "    n = input('Digite um número inteiro: ')\n",
    "    n_int = int(n)\n",
    "    \n",
    "    par = n_int % 2 \n",
    "    \n",
    "    if par == 0:\n",
    "        s += n_int\n",
    "        \n",
    "print(s)\n",
    "\n",
    "    "
   ]
  },
  {
   "cell_type": "markdown",
   "id": "df85a83c",
   "metadata": {},
   "source": [
    "* **51**: Desenvolva um programa que leia o primeiro termo e razão de uma PA, no final mostre os 10 primeiros termos dessa progressão."
   ]
  },
  {
   "cell_type": "code",
   "execution_count": 114,
   "id": "70f73648",
   "metadata": {},
   "outputs": [
    {
     "name": "stdout",
     "output_type": "stream",
     "text": [
      "Digite o primeiro termo da sua PA: 2\n",
      "Agora digite a razão desejada: 3\n",
      "2 5 8 11 14 17 20 23 26 29 2\n"
     ]
    }
   ],
   "source": [
    "p_termo = input('Digite o primeiro termo da sua PA: ')\n",
    "razao = input('Agora digite a razão desejada: ')\n",
    "p_int = int(p_termo)\n",
    "r_int = int(razao)\n",
    "\n",
    "termo = p_int\n",
    "\n",
    "for i in range(0, 10):\n",
    "    \n",
    "    print(termo ,end=' ')\n",
    "    termo += r_int\n",
    "    \n",
    "print(p_int)\n",
    "    "
   ]
  },
  {
   "cell_type": "markdown",
   "id": "a24ce8d4",
   "metadata": {},
   "source": [
    "* **52**: Faça um programa que leia um número inteiro e diga se ele é ou não um número primo."
   ]
  },
  {
   "cell_type": "code",
   "execution_count": null,
   "id": "61f7e59a",
   "metadata": {},
   "outputs": [],
   "source": []
  },
  {
   "cell_type": "markdown",
   "id": "754cbb6b",
   "metadata": {},
   "source": [
    "* **53**: Crie um programa que leia uma frase qualquer e diga se é um políndromo, desconsiderando os espaços."
   ]
  },
  {
   "cell_type": "code",
   "execution_count": null,
   "id": "8b475315",
   "metadata": {},
   "outputs": [],
   "source": []
  },
  {
   "cell_type": "markdown",
   "id": "e2961f0d",
   "metadata": {},
   "source": [
    "* **54**: Crie um programa que leia o ano de nascimento de sete pessoas. Ao final mostre quantas pessoas ainda não são maiores de idade, e quantos já são maiores."
   ]
  },
  {
   "cell_type": "code",
   "execution_count": 92,
   "id": "4561d7a1",
   "metadata": {},
   "outputs": [
    {
     "name": "stdout",
     "output_type": "stream",
     "text": [
      "2023\n",
      "Digite o ano do seu nascimento: 2022\n",
      "A idade é 1\n",
      "Digite o ano do seu nascimento: 2021\n",
      "A idade é 2\n",
      "Digite o ano do seu nascimento: 1999\n",
      "A idade é 24\n",
      "Digite o ano do seu nascimento: 2000\n",
      "A idade é 23\n",
      "A quantidade pessoas maiores de idade é 2, e menores é 2.\n"
     ]
    }
   ],
   "source": [
    "from datetime import date\n",
    "\n",
    "ano_atual = datetime.datetime.now().year\n",
    "print(ano)\n",
    "\n",
    "maior = 0\n",
    "menor = 0\n",
    "\n",
    "for i in range(0, 7):\n",
    "    ano_nasc = int(input('Digite o ano do seu nascimento: '))\n",
    "\n",
    "    dif = ano_atual - ano_nasc\n",
    "    print(f'A idade é {dif}')\n",
    "    \n",
    "    if dif >= 18:\n",
    "        maior += 1\n",
    "    else:\n",
    "        menor += 1\n",
    "    \n",
    "    \n",
    "print(f'A quantidade pessoas maiores de idade é {maior}, e menores é {menor}.')    \n",
    "\n"
   ]
  },
  {
   "cell_type": "markdown",
   "id": "c9f5f41c",
   "metadata": {},
   "source": [
    "* **55**: Faça um programa que leia o peso de cinco pessoas. No final mostre qual foi o maior peso, e menor peso lidos."
   ]
  },
  {
   "cell_type": "code",
   "execution_count": 99,
   "id": "e4033903",
   "metadata": {},
   "outputs": [
    {
     "name": "stdout",
     "output_type": "stream",
     "text": [
      "Digite seu peso: 98\n",
      "Digite seu peso: 21\n",
      "Digite seu peso: 54\n",
      "Digite seu peso: 62\n",
      "Digite seu peso: 34\n",
      "O maior peso foi 98 e o menor peso foi 21\n"
     ]
    }
   ],
   "source": [
    "\n",
    "lista = []\n",
    "for i in range(0, 5):\n",
    "    peso = input('Digite seu peso: ')\n",
    "    p_int = int(peso)\n",
    "    lista.append(p_int)\n",
    "    \n",
    "lista.sort(reverse=True)\n",
    "print(f'\\nO maior peso foi {lista[0]} e o menor peso foi {lista[4]}')\n",
    "    "
   ]
  },
  {
   "cell_type": "markdown",
   "id": "fc83bd48",
   "metadata": {},
   "source": [
    "* **56**: Desenvolva um programa que leia o nome, idade, e sexo de 4 pessoas no final mostre:\n",
    "    * A média de idade do grupo.\n",
    "    * Qual é o nome do homem mais velho.\n",
    "    * Quantas mulheres tem menos de 20 anos."
   ]
  },
  {
   "cell_type": "code",
   "execution_count": 126,
   "id": "b558f77a",
   "metadata": {},
   "outputs": [
    {
     "name": "stdout",
     "output_type": "stream",
     "text": [
      "\n",
      "Qual é o seu nome? Joao \n",
      "\n",
      "Qual é o seu sexo? F/M/N (Não responder): M\n",
      "\n",
      "Qual é a sua idade? 19\n",
      "\n",
      "Qual é o seu nome? Fabio\n",
      "\n",
      "Qual é o seu sexo? F/M/N (Não responder): 30\n",
      "\n",
      "Qual é a sua idade? 30\n",
      "\n",
      "A média de idade dos participantes é 12.25, e 0 mulheres possuem menos de 20 anos\n",
      "\n",
      "O nome do homem mais velho é ('Joao ', 19)\n"
     ]
    }
   ],
   "source": [
    "soma = 0\n",
    "fem = 0\n",
    "lista = []\n",
    "\n",
    "for i in range(0, 2):\n",
    "    nome = input('\\nQual é o seu nome? ')\n",
    "    sexo = input('\\nQual é o seu sexo? F/M/N (Não responder): ').upper()\n",
    "    idade = input('\\nQual é a sua idade? ')\n",
    "    idade_int = int(idade)\n",
    "    \n",
    "    soma += idade_int\n",
    "    \n",
    "    if sexo == 'F' and idade_int <= 20:\n",
    "        fem += 1 \n",
    "        \n",
    "    tupla = (nome, idade_int)\n",
    "    lista.append(tupla)    \n",
    "    \n",
    "    if sexo == 'M':\n",
    "        lista_ord = sorted(lista, key=lambda x: x[0])\n",
    "        \n",
    "media = soma / 4\n",
    "print(f'\\nA média de idade dos participantes é {media:.2f}, e {fem} mulheres possuem menos de 20 anos')\n",
    "print(f'\\nO nome do homem mais velho é {lista_ord[0]}')\n"
   ]
  },
  {
   "cell_type": "markdown",
   "id": "b29d4df2",
   "metadata": {},
   "source": [
    "* **57**: Faça um programa que leia o sexo de uma pessoa, mas só aceite valores 'M' ou 'F'.\n",
    "    * Caso esteja errado, peça a digitação novamente até ter um valor correto"
   ]
  },
  {
   "cell_type": "code",
   "execution_count": 24,
   "id": "bbdef952",
   "metadata": {},
   "outputs": [
    {
     "name": "stdout",
     "output_type": "stream",
     "text": [
      "Digite o seu sexo: a\n",
      "Digite novamente: b\n",
      "Digite novamente: m\n",
      "\n",
      "Acabou\n"
     ]
    }
   ],
   "source": [
    "sexo = input('Digite o seu sexo: ').upper()\n",
    "\n",
    "while (sexo != 'M') and (sexo != 'F'):\n",
    "    sexo = input('Digite novamente: ').upper()\n",
    "        \n",
    "\n",
    "print('\\nAcabou')"
   ]
  },
  {
   "cell_type": "markdown",
   "id": "8eb7b58f",
   "metadata": {},
   "source": [
    "* **58**: Melhore o jogo **28**, onde o computador vai pensar em um número entre 0 e 10. Só que agora o jogador vai tentar adivinhar até acertar, mostrando no final quantas tentativas foram necessárias para vender.\n"
   ]
  },
  {
   "cell_type": "code",
   "execution_count": 33,
   "id": "d92e4558",
   "metadata": {},
   "outputs": [
    {
     "name": "stdout",
     "output_type": "stream",
     "text": [
      "Tente descobrir o número do computador: de 0 a 10!!\n",
      "\n",
      "Digite um Número inteiro: 4\n",
      "3\n",
      "\n",
      "Você errou! Tente novamente: 3\n",
      "\n",
      "Parabéns!! O número que você digitou é 3 e o computador pensou em 3. Foram necessárias 2 tentativas!\n"
     ]
    }
   ],
   "source": [
    "import random \n",
    "\n",
    "print('Tente descobrir o número do computador: de 0 a 10!!')\n",
    "num = input('\\nDigite um Número inteiro: ')\n",
    "num_int = int(num)\n",
    "computador = random.randint(0, 10)\n",
    "print(computador)\n",
    "\n",
    "c = 1\n",
    "while num_int != computador:\n",
    "    \n",
    "    num = input('\\nVocê errou! Tente novamente: ')\n",
    "    num_int = int(num)\n",
    "    c += 1\n",
    "\n",
    "    \n",
    "print(f'\\nParabéns!! O número que você digitou é {num_int} e o computador pensou em {computador}. Foram necessárias {c} tentativas!')\n",
    "    \n",
    "    "
   ]
  },
  {
   "cell_type": "markdown",
   "id": "6f61b91c",
   "metadata": {},
   "source": [
    "* **59**: Crie um programa que leia dois valores e mostre um menu na tela, que deverá realizar a operação desejada pelo usuário:\n",
    "    * [1] Somar\n",
    "    * [2] Multiplicar\n",
    "    * [3] Maior\n",
    "    * [4] Novos números\n",
    "    * [5] Sair do programa"
   ]
  },
  {
   "cell_type": "code",
   "execution_count": 48,
   "id": "2fb8d982",
   "metadata": {},
   "outputs": [
    {
     "name": "stdout",
     "output_type": "stream",
     "text": [
      "\n",
      "    Escolha uma operação!\n",
      "    [1] Somar\n",
      "    [2] Multiplicar\n",
      "    [3] Maior\n",
      "    [4] Novos Números\n",
      "    [5] Sair do programa\n",
      "\n",
      "\n",
      "Escolha o número da sua operação: 5\n",
      "\n",
      "Acabou!\n"
     ]
    }
   ],
   "source": [
    "print(\"\"\"\n",
    "    Escolha uma operação!\n",
    "    [1] Somar\n",
    "    [2] Multiplicar\n",
    "    [3] Maior\n",
    "    [4] Novos Números\n",
    "    [5] Sair do programa\n",
    "\n",
    "\"\"\")\n",
    "\n",
    "condicao = input('Escolha o número da sua operação: ')\n",
    "\n",
    "while condicao != '5':\n",
    "    \n",
    "    numero1 = float(input('Digite um número: '))\n",
    "    numero2 = float(input('Digite mais um número: '))\n",
    "    \n",
    "    if condicao == '1':\n",
    "        soma = numero1 + numero2\n",
    "        print(f'\\nA soma dos valores é {soma}.')\n",
    "        condicao = input('\\nDeseja continuar? Escolha o número da sua operação: ')\n",
    "        \n",
    "    elif condicao == '2':\n",
    "        multiplica = numero1 * numero2\n",
    "        print(f'\\nA multiplicação dos valores é {multiplica}.')\n",
    "        condicao = input('\\nDeseja continuar? Escolha o número da sua operação: ')\n",
    "        \n",
    "    elif condicao == '3':\n",
    "        maior = numero1 if numero1 > numero2 else numero2\n",
    "        print(f'\\nO maior valor é {maior}.')\n",
    "        condicao = input('\\nDeseja continuar? Escolha o número da sua operação: ')\n",
    "        \n",
    "    else:\n",
    "        condicao = input('\\nDeseja continuar? Escolha o número da sua operação: ')\n",
    "\n",
    "    \n",
    "print('\\nAcabou!')"
   ]
  },
  {
   "cell_type": "markdown",
   "id": "d8425fc2",
   "metadata": {},
   "source": [
    "* **60**: Faça um programa que leia um número qualquer e mostre seu fatorial."
   ]
  },
  {
   "cell_type": "code",
   "execution_count": 61,
   "id": "9c1e4360",
   "metadata": {},
   "outputs": [
    {
     "name": "stdout",
     "output_type": "stream",
     "text": [
      "Digite um número: 5\n",
      "5 x 4 x 3 x 2 x 1 = Resultado: 120\n"
     ]
    }
   ],
   "source": [
    "numero = int(input('Digite um número: '))\n",
    "\n",
    "c = numero\n",
    "f = 1\n",
    "\n",
    "while c > 0:\n",
    "    \n",
    "    print(f'{c}', end='')\n",
    "    \n",
    "    print(' x ' if c > 1 else ' = ', end='')\n",
    "    f *= c\n",
    "    c -= 1\n",
    "    \n",
    "print(f'Resultado: {f}')\n",
    "    "
   ]
  },
  {
   "cell_type": "code",
   "execution_count": 62,
   "id": "1e11bd0a",
   "metadata": {},
   "outputs": [
    {
     "name": "stdout",
     "output_type": "stream",
     "text": [
      "Digite um número: 5\n",
      "120\n"
     ]
    }
   ],
   "source": [
    "from math import factorial \n",
    "\n",
    "fator = int(input('Digite um número: '))\n",
    "\n",
    "fatorial = factorial(fator)\n",
    "\n",
    "print(f'{fatorial}')"
   ]
  },
  {
   "cell_type": "markdown",
   "id": "b4d82268",
   "metadata": {},
   "source": [
    "* **61**: Refaça o desafio **51**, lendo o primeiro termo e a razão de uma PA, mostrando os 10 primeiros termos da progressão usando while."
   ]
  },
  {
   "cell_type": "code",
   "execution_count": 44,
   "id": "d5ca2e5c",
   "metadata": {},
   "outputs": [
    {
     "name": "stdout",
     "output_type": "stream",
     "text": [
      "Digite o primeiro termo da sua PA: 2\n",
      "Digite o valo da razão que deseja: 3\n",
      "3 6 9 12 15 18 21 24 27 30 \n",
      " <class 'int'> <class 'int'>\n"
     ]
    }
   ],
   "source": [
    "primeiro_termo = input('Digite o primeiro termo da sua PA: ')\n",
    "razao = input('Digite o valor da razão que deseja: ')\n",
    "\n",
    "prim_int = int(primeiro_termo)\n",
    "r_int = int(razao)\n",
    "\n",
    "c = 0\n",
    "i = 0\n",
    "\n",
    "while c < 10:\n",
    "    c += 1\n",
    "    i += r_int\n",
    "    print( i , end=' ')\n",
    "     \n",
    "    \n",
    "print('\\n',type(prim_int), type(r_int))"
   ]
  },
  {
   "cell_type": "code",
   "execution_count": 56,
   "id": "5b8af87b",
   "metadata": {},
   "outputs": [
    {
     "name": "stdout",
     "output_type": "stream",
     "text": [
      "Digite o primeiro termo da sua PA: 2\n",
      "Digite o valor da razão que deseja: 3\n",
      "2 5 8 11 14 17 20 23 26 29 \n",
      " <class 'int'> <class 'int'>\n"
     ]
    }
   ],
   "source": [
    "primeiro_termo = input('Digite o primeiro termo da sua PA: ')\n",
    "razao = input('Digite o valor da razão que deseja: ')\n",
    "\n",
    "prim_int = int(primeiro_termo)\n",
    "r_int = int(razao)\n",
    "\n",
    "c = 0\n",
    "termo = prim_int\n",
    "\n",
    "while c < 10:\n",
    "    c += 1\n",
    "    print(termo , end=' ')\n",
    "    termo += r_int\n"
   ]
  },
  {
   "cell_type": "markdown",
   "id": "09cc69f2",
   "metadata": {},
   "source": [
    "* **62**: Melhore a atividade **61**, perguntando para o usuário se ele quer mostrar mais alguns termos. O programa encerra quando o usuário disser que quer mostrar 0 termos."
   ]
  },
  {
   "cell_type": "code",
   "execution_count": 1,
   "id": "fa2e16f9",
   "metadata": {},
   "outputs": [
    {
     "name": "stdout",
     "output_type": "stream",
     "text": [
      "Digite o primeiro termo da sua PA: 3\n",
      "Digite o valor da razão que deseja: 4\n"
     ]
    }
   ],
   "source": [
    "primeiro_termo = input('Digite o primeiro termo da sua PA: ')\n",
    "razao = input('Digite o valor da razão que deseja: ')\n",
    "prim_int = int(primeiro_termo)\n",
    "r_int = int(razao)\n",
    "\n",
    "c = 0\n",
    "termo = prim_int\n",
    "mais = 1\n",
    "\n",
    "while c :\n",
    "    c += 1\n",
    "    print(termo , end=' ')\n",
    "    termo += r_int\n",
    "    mais = int(input('Deseja mostrar mais quantos termos? '))\n"
   ]
  },
  {
   "cell_type": "markdown",
   "id": "80dc2686",
   "metadata": {},
   "source": [
    "* **63**: Escreva um programa que leia um número N inteiro qualquer e mostre os primeiros elementos de uma sequência Finonacci."
   ]
  },
  {
   "cell_type": "code",
   "execution_count": null,
   "id": "3f216280",
   "metadata": {},
   "outputs": [],
   "source": []
  },
  {
   "cell_type": "markdown",
   "id": "6069ded2",
   "metadata": {},
   "source": [
    "* **64**: Crie um programa que leia vários números inteiros pelo teclado. O programa só vai para quando o usuário digitar o valor de 999.\n",
    "    * Ao final mostre quantos números foram digitados e qual foi a soma entre eles."
   ]
  },
  {
   "cell_type": "code",
   "execution_count": 12,
   "id": "5125839b",
   "metadata": {},
   "outputs": [
    {
     "name": "stdout",
     "output_type": "stream",
     "text": [
      "Digite um valor inteiro: 5\n",
      "Digite outro valor inteiro: 4\n",
      "Digite outro valor inteiro: 1\n",
      "Digite outro valor inteiro: 999\n",
      "10, 3.3\n"
     ]
    }
   ],
   "source": [
    "valor = 999\n",
    "\n",
    "numero = input('Digite um valor inteiro: ')\n",
    "numero_int = int(numero)\n",
    "\n",
    "c = 0\n",
    "soma = 0\n",
    "\n",
    "while valor != numero_int:\n",
    "    c += 1\n",
    "    soma += numero_int\n",
    "    \n",
    "    numero = input('Digite outro valor inteiro: ')\n",
    "    numero_int = int(numero)\n",
    "\n",
    "media = soma / c\n",
    "\n",
    "print(f'{soma}, {media:.2}')\n",
    "\n"
   ]
  },
  {
   "cell_type": "markdown",
   "id": "21b1e45e",
   "metadata": {},
   "source": [
    "* **65**: Crie um programa que leia vários números inteiros pelo teclado. No final da execução mostre:\n",
    "    * A média entre todos os valores\n",
    "    * E qual foi o maior e o menor valores lidos\n",
    "    * Deve-se perguntar ao usuários se ele quer ou não digitar os valores."
   ]
  },
  {
   "cell_type": "code",
   "execution_count": 37,
   "id": "e940dbca",
   "metadata": {},
   "outputs": [
    {
     "name": "stdout",
     "output_type": "stream",
     "text": [
      "Digite um número inteiro: 5\n",
      "\n",
      "Deseja continuar? S/N: s\n",
      "\n",
      "Digite outro número inteiro: 4\n",
      "\n",
      "Deseja continuar? S/N: s\n",
      "\n",
      "Digite outro número inteiro: 6\n",
      "\n",
      "Deseja continuar? S/N: n\n",
      "\n",
      "Você digitou 10 números, e a media é 5.0, o contador é 2, e o maior valor digitado é 6\n"
     ]
    }
   ],
   "source": [
    "c = 0\n",
    "soma = 0\n",
    "maior = numero_int\n",
    "\n",
    "numero = input(\"Digite um número inteiro: \")\n",
    "numero_int = int(numero)\n",
    "\n",
    "condicao = input(\"\\nDeseja continuar? S/N: \").upper()\n",
    "\n",
    "while condicao != 'N':\n",
    "    numero = input(\"\\nDigite outro número inteiro: \")\n",
    "    numero_int = int(numero)\n",
    "    \n",
    "    c += 1\n",
    "    soma += numero_int\n",
    "\n",
    "    if numero_int > maior:\n",
    "        maior = numero_int\n",
    "        \n",
    "    condicao = input(\"\\nDeseja continuar? S/N: \").upper()\n",
    "\n",
    "if c > 0:\n",
    "    media = soma / c\n",
    "    print(f'\\nVocê digitou {soma} números, e a media é {media}, o contador é {c}, e o maior valor digitado é {maior}')\n",
    "else:\n",
    "    print('\\nVocê digitou apenas uma vez, então não é possivel realizar a media!')\n"
   ]
  },
  {
   "cell_type": "code",
   "execution_count": 18,
   "id": "13b4ec45",
   "metadata": {},
   "outputs": [
    {
     "name": "stdout",
     "output_type": "stream",
     "text": [
      "\n",
      "Digite outro número inteiro: 4\n",
      "\n",
      "Deseja continuar? S/N: s\n",
      "\n",
      "Digite outro número inteiro: 5\n",
      "\n",
      "Deseja continuar? S/N: s\n",
      "\n",
      "Digite outro número inteiro: 3\n",
      "\n",
      "Deseja continuar? S/N: n\n",
      "\n",
      "A soma dos valores é 12 números, e a media é 4.00, você digitou 3 números, e o maior valor digitado é 5\n"
     ]
    }
   ],
   "source": [
    "c = 0\n",
    "soma = 0\n",
    "condicao = 'S'\n",
    "lista = []\n",
    "\n",
    "while condicao != 'N':\n",
    "    numero = input(\"\\nDigite outro número inteiro: \")\n",
    "    numero_int = int(numero)\n",
    "    \n",
    "    maior = numero_int\n",
    "    \n",
    "    c += 1\n",
    "    soma += numero_int\n",
    "\n",
    "    lista.append(numero_int)\n",
    "        \n",
    "    condicao = input(\"\\nDeseja continuar? S/N: \").upper()\n",
    "\n",
    "lista.sort(reverse=True)    \n",
    "media = soma / c\n",
    "print(f'\\nA soma dos valores é {soma} números, e a media é {media:.2f}, você digitou {c} números, e o maior valor digitado é {lista[0]}')\n",
    "\n"
   ]
  },
  {
   "cell_type": "markdown",
   "id": "021fb5fe",
   "metadata": {},
   "source": [
    "### Exemplo\n",
    "* Exemplo: soma"
   ]
  },
  {
   "cell_type": "code",
   "execution_count": 16,
   "id": "102bfb44",
   "metadata": {},
   "outputs": [
    {
     "name": "stdout",
     "output_type": "stream",
     "text": [
      "Digite o primeiro número: 5\n",
      "Digite o primeiro número: 2\n",
      "Digite o primeiro número: 3\n",
      "Digite o primeiro número: 0\n",
      "10\n"
     ]
    }
   ],
   "source": [
    "x = int(input('Digite o primeiro número: '))\n",
    "\n",
    "soma = 0\n",
    "\n",
    "while x != 0:\n",
    "    soma += x\n",
    "    \n",
    "    x = int(input('Digite o primeiro número: '))\n",
    "\n",
    "print(soma)\n",
    "    "
   ]
  },
  {
   "cell_type": "markdown",
   "id": "b4305df0",
   "metadata": {},
   "source": [
    "* **66**: Crie um programa que leia vários números inteiros pelo teclado. O programa só vai parar quando o usuário digitar o valor 999, que é a condição de parada. No final mostre quantos números foram digitados e qual foi a soma entre eles (desconsiderando o flag)."
   ]
  },
  {
   "cell_type": "code",
   "execution_count": null,
   "id": "dfe14796",
   "metadata": {},
   "outputs": [],
   "source": []
  },
  {
   "cell_type": "markdown",
   "id": "5d7d15e8",
   "metadata": {},
   "source": [
    "* **67**: Faça um programa que mostre a tabuada de vários números, um de cada vez, para cada valor digitado pelo usuário. O programa será interrompido quando o número solicitador for negativo."
   ]
  },
  {
   "cell_type": "code",
   "execution_count": null,
   "id": "a23e9231",
   "metadata": {},
   "outputs": [],
   "source": []
  },
  {
   "cell_type": "markdown",
   "id": "4690d69d",
   "metadata": {},
   "source": [
    "* **68**: Faça um programa que jogue par ou ímpar com o computador. O jogo só será interrompido quando o jogador **PERDER**, mostrando o total de vitórias consecutivas que ele conquistou ao final do jogo."
   ]
  },
  {
   "cell_type": "code",
   "execution_count": null,
   "id": "5d28c519",
   "metadata": {},
   "outputs": [],
   "source": []
  },
  {
   "cell_type": "markdown",
   "id": "96cd990b",
   "metadata": {},
   "source": [
    "* **69**: Crie um programa que leia a idade e sexo de várias pessoas. A cada pessoa cadastrada o programa deverá perguntar se o usuário quer ou não continuar. No final mostre:\n",
    "* Quantas pessoas tem mais de 18 anos.\n",
    "* Quantos homens foram cadastrados\n",
    "* Quantas mulheres tem menos de 20 anos."
   ]
  },
  {
   "cell_type": "code",
   "execution_count": null,
   "id": "678dac77",
   "metadata": {},
   "outputs": [],
   "source": []
  },
  {
   "cell_type": "markdown",
   "id": "85213227",
   "metadata": {},
   "source": [
    "* **70**: Crie um programa que leia o nome e o preço de vários produtos. O programa deve perguntar se o usuário vai continuar. No final mostre:\n",
    "* Qual é o total gasto na compra.\n",
    "* Quantos produtos custam mais de 1000 reais.\n",
    "* Qual é o nome do produto mais barato."
   ]
  },
  {
   "cell_type": "code",
   "execution_count": null,
   "id": "8197a18e",
   "metadata": {},
   "outputs": [],
   "source": []
  },
  {
   "cell_type": "markdown",
   "id": "e783c9ec",
   "metadata": {},
   "source": [
    "* **71**: Crie um programa que simule o funcionamento de um caixa eletronico. No início, pergunte ao usuário qual será o valor a ser sacado (inteiro) e o programa vai informar quantas cédulas de cada valor serão entregues.\n",
    "* Obs: Considere que o caixa possui cédulos de 50, 20, 10 e 1."
   ]
  },
  {
   "cell_type": "code",
   "execution_count": null,
   "id": "6b690658",
   "metadata": {},
   "outputs": [],
   "source": []
  },
  {
   "cell_type": "markdown",
   "id": "b841fbcd",
   "metadata": {},
   "source": [
    "* **72** Crie um programa que tenha uma **tupla** totalmente preenchida com uma **contagem** por extenso, de 0 até 20. Seu programa deverá ler um número pelo teclado (entre 0 e 20) e mostre ele por extenso."
   ]
  },
  {
   "cell_type": "code",
   "execution_count": 4,
   "id": "b4f7932e",
   "metadata": {},
   "outputs": [
    {
     "name": "stdout",
     "output_type": "stream",
     "text": [
      "Digite um número: 21\n",
      "Digite um número: 33\n",
      "Digite um número: -2\n",
      "Digite um número: -4\n",
      "Digite um número: 244\n",
      "Digite um número: 20\n",
      "Você digitou Vinte!\n"
     ]
    }
   ],
   "source": [
    "t = ('Zero', 'Um', 'Dois', 'Três', 'Quatro', 'Cinco', 'Seis', 'Sete', 'Oito', 'Nove', 'Dez', 'Onze', 'Doze', \n",
    "                'Treze', 'Quatorze', 'Quinze', 'Dezesseis', 'Dezessete', 'Dezoito', 'Dezenove', 'Vinte')\n",
    "\n",
    "n = input('Digite um número: ')\n",
    "n_int = int(n)\n",
    "\n",
    "while True: \n",
    "    if n_int >= 0 and n_int <= 20:\n",
    "        print(f'\\nVocê digitou {t[n_int]}!')\n",
    "        break\n",
    "        \n",
    "    else:\n",
    "        n = input('Digite um número: ')\n",
    "        n_int = int(n)\n",
    "        \n",
    "        \n",
    "    "
   ]
  },
  {
   "cell_type": "markdown",
   "id": "bf167f5f",
   "metadata": {},
   "source": [
    "* **73** Crie uma tupla preenchida com os **20 primeiros** colocados da tabela do **Campeonato Brasileiro de Futebol**, na ordem de colocação. E depois mostre:\n",
    "* Apenas os **5 primeiros** colocados.\n",
    "* Os **últimos 4** colocados na tabela.\n",
    "* Uma lista com os times em **ordem alfabética**.\n",
    "* Em que **posição** na tabela está o time da chapecoense."
   ]
  },
  {
   "cell_type": "code",
   "execution_count": 40,
   "id": "279616d3",
   "metadata": {},
   "outputs": [
    {
     "name": "stdout",
     "output_type": "stream",
     "text": [
      "Botafogo\n",
      "Grêmio\n",
      "Flamengo\n",
      "Palmeiras\n",
      "Red Bull Bragantino\n",
      "\n",
      "Botafogo\n",
      "\n",
      "Grêmio\n",
      "\n",
      "Flamengo\n",
      "\n",
      "Palmeiras\n",
      "\n",
      "Red Bull Bragantino\n",
      "Em ordem alfábética os Times ficam dessa forma: \n",
      "['América-MG', 'Athletico-PR', 'Atlético-MG', 'Bahia', 'Botafogo', 'Corinthians', 'Coritiba', 'Cruzeiro', 'Cuiabá', 'Flamengo', 'Fluminense', 'Fortaleza', 'Goiás', 'Grêmio', 'Internacional', 'Palmeiras', 'Red Bull Bragantino', 'Santos', 'São Paulo', 'Vasco']\n"
     ]
    }
   ],
   "source": [
    "times = ('Botafogo', 'Grêmio', 'Flamengo', 'Palmeiras', 'Red Bull Bragantino', 'Fluminense', 'São Paulo', \n",
    "         'Internacional', 'Athletico-PR', 'Atlético-MG','Fortaleza', 'Cruzeiro', 'Cuiabá', 'Santos', \n",
    "         'Bahia', 'Corinthians', 'Goiás', 'Vasco', 'América-MG', 'Coritiba')\n",
    "\n",
    "for p in range(0, 5):\n",
    "    print(f'{times[p]}')\n",
    "    \n",
    "for c in range(0, 5):\n",
    "    print(f'\\n{times[c]}')\n",
    "    c -= 1\n",
    "    \n",
    "\n",
    "ordem = sorted(times)\n",
    "print(f'Em ordem alfábética os Times ficam dessa forma: \\n{ordem}')\n"
   ]
  },
  {
   "cell_type": "markdown",
   "id": "b001bdf9",
   "metadata": {},
   "source": [
    "* **74** Crie um programa que vai gerar **cinco números aletatórios** e colocar em uma tupla. Depois disso, mostre a **listagem de números** gerados e também indique o **menor** e **maior** valor que estão na tupla. "
   ]
  },
  {
   "cell_type": "code",
   "execution_count": 12,
   "id": "09ec68d0",
   "metadata": {},
   "outputs": [
    {
     "name": "stdout",
     "output_type": "stream",
     "text": [
      "A tupla tem os seguintes valores: (4, 5, 3, 7, 7). \n",
      "O maior valor é 7, e o menor é 3\n",
      "4 5 3 7 7 "
     ]
    }
   ],
   "source": [
    "import random \n",
    "\n",
    "l1 = random.randint(0, 10)\n",
    "l2 = random.randint(0, 10)\n",
    "l3 = random.randint(0, 10)\n",
    "l4 = random.randint(0, 10)\n",
    "l5 = random.randint(0, 10)\n",
    "\n",
    "listagem = (l1, l2, l3, l4, l5)\n",
    "\n",
    "print(f'A tupla tem os seguintes valores: {listagem}. \\nO maior valor é {max(listagem)}, e o menor é {min(listagem)}')\n",
    "\n",
    "\n",
    "for i in listagem:\n",
    "    print(i, end=' ')"
   ]
  },
  {
   "cell_type": "markdown",
   "id": "ab69bcc2",
   "metadata": {},
   "source": [
    "* **75** Desenvolva um programa que leia **quatro valores** pelo teclado e **guarde-os** em um tupla. No final mostre: \n",
    "* Quantas vezes **apareceu o valor 9**. \n",
    "* **Em que posição** foi digitado o **primeiro valor 3**.\n",
    "* Quais foram os **números pares**. "
   ]
  },
  {
   "cell_type": "code",
   "execution_count": 15,
   "id": "616a045d",
   "metadata": {},
   "outputs": [
    {
     "name": "stdout",
     "output_type": "stream",
     "text": [
      "Digite um valor: 3\n",
      "Digite mais um valor: 4\n",
      "Digite mais um valor: 5\n",
      "Digite mais um valor: 6\n",
      "(3, 4, 5, 6)\n",
      "3 4 5 6 "
     ]
    }
   ],
   "source": [
    "num1 = int(input('Digite um valor: '))\n",
    "num2 = int(input('Digite mais um valor: '))\n",
    "num3 = int(input('Digite mais um valor: '))\n",
    "num4 = int(input('Digite mais um valor: '))\n",
    "\n",
    "tp = (num1, num2, num3, num4)\n",
    "\n",
    "print(tp)\n",
    "\n",
    "for i in tp:\n",
    "    print(i, end=' ')\n",
    "\n",
    "    "
   ]
  },
  {
   "cell_type": "markdown",
   "id": "448c098a",
   "metadata": {},
   "source": [
    "* **76** Crie um programa que tenha uma **tupla única** com **nomes de produtos** e seus respectivos **preços** na sequência. No final mostre uma listagem de preços organizando os dados em forma **tabular**."
   ]
  },
  {
   "cell_type": "code",
   "execution_count": 35,
   "id": "8b86acd5",
   "metadata": {},
   "outputs": [
    {
     "name": "stdout",
     "output_type": "stream",
     "text": [
      "----------------------------------------\n",
      "           LISTAGEM DE PREÇOS           \n",
      "----------------------------------------\n",
      "Lápis.........................R$    1.75\n",
      "Borracha......................R$    2.00\n",
      "Caderno.......................R$   15.90\n",
      "Estojo........................R$   25.00\n",
      "Transferidor..................R$    4.20\n",
      "Compasso......................R$    9.99\n",
      "Mochila.......................R$  120.32\n",
      "Canetas.......................R$   22.30\n",
      "Livros........................R$   34.90\n",
      "----------------------------------------\n"
     ]
    }
   ],
   "source": [
    "lista = ('Lápis',1.75,\n",
    "        'Borracha', 2,\n",
    "        'Caderno', 15.9,\n",
    "        'Estojo', 25,\n",
    "        'Transferidor', 4.20,\n",
    "        'Compasso', 9.99,\n",
    "        'Mochila', 120.32,\n",
    "        'Canetas', 22.30,\n",
    "        'Livros', 34.90)\n",
    "\n",
    "print('-' * 40)\n",
    "print(f'{\"LISTAGEM DE PREÇOS\":^40}')\n",
    "print('-' * 40)\n",
    "\n",
    "    \n",
    "for item in range(0, len(lista)):\n",
    "    if item % 2 == 0:\n",
    "        print(f'{lista[item]:.<30}', end='')\n",
    "    else:\n",
    "        print(f'R$ {lista[item]:>7.2f}')\n",
    "        \n",
    "print('-' * 40)"
   ]
  },
  {
   "cell_type": "markdown",
   "id": "e5970a1f",
   "metadata": {},
   "source": [
    "* **77** Crie um programa que tenha uma tupla com **várias palavras** (sem acento). Depois disso, você deve mostrar, para cada palavra, quais são as suas vogais."
   ]
  },
  {
   "cell_type": "code",
   "execution_count": 41,
   "id": "e8276e7f",
   "metadata": {},
   "outputs": [
    {
     "name": "stdout",
     "output_type": "stream",
     "text": [
      "\n",
      "Na palavra aprender na posição 0 temos: a e e \n",
      "Na palavra programar na posição 1 temos: o a a \n",
      "Na palavra linguagem na posição 2 temos: i u a e \n",
      "Na palavra python na posição 3 temos: o \n",
      "Na palavra curso na posição 4 temos: u o \n",
      "Na palavra gratis na posição 5 temos: a i \n",
      "Na palavra estudar na posição 6 temos: e u a \n",
      "Na palavra praticar na posição 7 temos: a i a \n",
      "Na palavra trabalhar na posição 8 temos: a a a \n",
      "Na palavra mercado na posição 9 temos: e a o \n",
      "Na palavra programador na posição 10 temos: o a a o \n",
      "Na palavra futuro na posição 11 temos: u u o "
     ]
    }
   ],
   "source": [
    "palavras = ('aprender','programar','linguagem','python',\n",
    "            'curso','gratis','estudar','praticar',\n",
    "           'trabalhar','mercado','programador','futuro')\n",
    "\n",
    "vogais = 'aeiou'\n",
    "\n",
    "for i, p in enumerate(palavras):\n",
    "    print(f'\\nNa palavra {p} na posição {i} temos: ', end='')\n",
    "    \n",
    "    for l in p:\n",
    "        if l.lower() in vogais:\n",
    "            print(l, end=' ')"
   ]
  },
  {
   "cell_type": "markdown",
   "id": "e898d2b1",
   "metadata": {},
   "source": [
    "* **78** Faça um programa que leia **5 valores** e guarde-os em uma lista. No final mostre qual foi o **maior** e o **menor** valor digitidado e as suas respectivas posições na lista."
   ]
  },
  {
   "cell_type": "code",
   "execution_count": 51,
   "id": "de8a4fe8",
   "metadata": {},
   "outputs": [
    {
     "name": "stdout",
     "output_type": "stream",
     "text": [
      "Digite um valor: 21\n",
      "Digite um valor: 325\n",
      "Digite um valor: 1203\n",
      "Digite um valor: 1\n",
      "Digite um valor: 89\n",
      "[1203, 325, 89, 21, 1]\n",
      "O maior número é 1203, e o menor é 1\n",
      "O maior número é 1203, e o menor é 1\n"
     ]
    }
   ],
   "source": [
    "lista = []\n",
    "for num in range(0, 5):\n",
    "    numero = input('Digite um valor: ')\n",
    "    numero_int = int(numero)\n",
    "    lista.append(numero_int)\n",
    "\n",
    "lista.sort(reverse=True)\n",
    "\n",
    "print(lista)\n",
    "print(f'O maior número é {lista[0]}, e o menor é {lista[4]}')\n",
    "print(f'O maior número é {max(lista)}, e o menor é {min(lista)}')"
   ]
  },
  {
   "cell_type": "markdown",
   "id": "c77fb62a",
   "metadata": {},
   "source": [
    "* **79** Faça um programa onde o usuário possa digitar **vários valores** númericos e cadastre-os em **lista**. Caso o número já exista lá dentro, ele **não será direcionada**. No final, serão exibidos todos os **valores únicos** digitados, em ordem crescente."
   ]
  },
  {
   "cell_type": "code",
   "execution_count": 62,
   "id": "36836b95",
   "metadata": {},
   "outputs": [
    {
     "name": "stdout",
     "output_type": "stream",
     "text": [
      "Digite um valor: 2\n",
      "Digite um valor: 2\n",
      "Digite um valor: 4\n",
      "Digite um valor: 5\n",
      "Digite um valor: 6\n",
      "{2, 4, 5, 6}\n"
     ]
    }
   ],
   "source": [
    "valores = []\n",
    "for num in range(0, 5):\n",
    "    numero = input('Digite um valor: ')\n",
    "    numero_int = int(numero)\n",
    "    valores.append(numero_int)\n",
    "    \n",
    "valores.sort()\n",
    "vlr = set(valores)\n",
    "\n",
    "\n",
    "print(vlr) \n",
    "    "
   ]
  },
  {
   "cell_type": "code",
   "execution_count": 65,
   "id": "8db22d04",
   "metadata": {},
   "outputs": [
    {
     "name": "stdout",
     "output_type": "stream",
     "text": [
      "Digite um valor: 3\n",
      "Digite um valor: 3\n",
      "Digite um valor: 4\n",
      "Digite um valor: 2\n",
      "Digite um valor: 1\n",
      "[1, 2, 3, 4]\n"
     ]
    }
   ],
   "source": [
    "valores = []\n",
    "for num in range(0, 5):\n",
    "    numero = input('Digite um valor: ')\n",
    "    numero_int = int(numero)\n",
    "    \n",
    "    \n",
    "\n",
    "    if numero_int not in valores:\n",
    "        valores.append(numero_int)\n",
    "    \n",
    "    \n",
    "valores.sort()\n",
    "\n",
    "print(valores) \n",
    "    "
   ]
  },
  {
   "cell_type": "code",
   "execution_count": 67,
   "id": "d577fe85",
   "metadata": {},
   "outputs": [
    {
     "name": "stdout",
     "output_type": "stream",
     "text": [
      "Digite um valor: 3\n",
      "Quer continuar? S/N: s\n",
      "Digite um valor: 4\n",
      "Quer continuar? S/N: s\n",
      "Digite um valor: 4\n",
      "Quer continuar? S/N: s\n",
      "Digite um valor: 6\n",
      "Quer continuar? S/N: s\n",
      "Digite um valor: 5\n",
      "Quer continuar? S/N: n\n",
      "[3, 4, 5, 6]\n"
     ]
    }
   ],
   "source": [
    "vl = list()\n",
    "while True: \n",
    "    n = int(input('Digite um valor: '))\n",
    "    \n",
    "    if n not in vl:\n",
    "        vl.append(n)\n",
    "    \n",
    "    r = str(input('Quer continuar? S/N: ')).upper()\n",
    "    \n",
    "    if r == 'N':\n",
    "        break\n",
    "        \n",
    "vl.sort()\n",
    "\n",
    "print(vl)"
   ]
  },
  {
   "cell_type": "markdown",
   "id": "07af7115",
   "metadata": {},
   "source": [
    "* **80** Crie um programa onde o usuário possa digitar **5 valores númericos** e cadastre-os em uma **lista**, já na posição correta de inserção (sem usar o sort()). No final mostre a **lista ordenada** na tela."
   ]
  },
  {
   "cell_type": "code",
   "execution_count": 73,
   "id": "5d06f8b3",
   "metadata": {},
   "outputs": [
    {
     "name": "stdout",
     "output_type": "stream",
     "text": [
      "Digite um número: 2\n",
      "Digite um número: 1\n",
      "Digite um número: 3\n",
      "Digite um número: 8\n",
      "Digite um número: 7\n",
      "[1, 2, 3, 7, 8]\n"
     ]
    }
   ],
   "source": [
    "lista = []\n",
    "\n",
    "for c in range(0, 5):\n",
    "    n = int(input('Digite um número: '))\n",
    "    \n",
    "    if c == 0 or n > lista[-1]:\n",
    "        lista.append(n)\n",
    "    \n",
    "    else:\n",
    "        pos = 0\n",
    "        while pos < len(lista):\n",
    "            if n <= lista[pos]:\n",
    "                lista.insert(pos, n)\n",
    "                break\n",
    "            pos += 1\n",
    "            \n",
    "print(lista)"
   ]
  },
  {
   "cell_type": "markdown",
   "id": "5790f370",
   "metadata": {},
   "source": [
    "* **81** Crie um programa que bai ler **vários números** e colocar em um **lista**. Depois mostre:\n",
    "* **Quantos** números foram digitados.\n",
    "* A lista de valores **ordenada de forma decrescente**.\n",
    "* Se o **valor 5** foi digitado e está ou não na lista."
   ]
  },
  {
   "cell_type": "code",
   "execution_count": 85,
   "id": "7e10f6e5",
   "metadata": {},
   "outputs": [
    {
     "name": "stdout",
     "output_type": "stream",
     "text": [
      "Digite um valor: 5\n",
      "Quer continuar? S/N: s\n",
      "Digite um valor: 6\n",
      "Quer continuar? S/N: n\n",
      "\n",
      "Foram digitados 2 números.\n",
      "Lista ordenada: [5, 6].\n",
      "O número 5 está na lista? Sim\n"
     ]
    }
   ],
   "source": [
    "lista = list()\n",
    "quant = 0\n",
    "respostas = ' '\n",
    "\n",
    "while True: \n",
    "    numero = input('Digite um valor: ')\n",
    "    numero_int = int(numero)\n",
    "    lista.append(numero_int)\n",
    "    \n",
    "    quant += 1\n",
    "    \n",
    "    r = str(input('Quer continuar? S/N: ')).upper()\n",
    "    if r == 'N':\n",
    "        break\n",
    "        \n",
    "    if numero_int == 5:\n",
    "        resposta = 'Sim'\n",
    "    else:\n",
    "        resposta = 'Não'\n",
    "        \n",
    "        \n",
    "lista.sort()\n",
    "\n",
    "print(f'\\nForam digitados {quant} números.\\nLista ordenada: {lista}.\\nO número 5 está na lista? {resposta}')"
   ]
  },
  {
   "cell_type": "markdown",
   "id": "5126dd93",
   "metadata": {},
   "source": [
    "* **82** Crie um programa que vai ler **vários números** e colocar em um **lista**. Depois disso, crie **duas listas extras** que vão conter apenas os valores **pares** e os valores **ímpares** digitados, respectivamente. Ao final, mostre o **conteúdo das três listas geradas**."
   ]
  },
  {
   "cell_type": "code",
   "execution_count": 88,
   "id": "e50ca64f",
   "metadata": {},
   "outputs": [
    {
     "name": "stdout",
     "output_type": "stream",
     "text": [
      "Digite um valor: 2\n",
      "Quer continuar? S/N: s\n",
      "Digite um valor: 7\n",
      "Quer continuar? S/N: s\n",
      "Digite um valor: 9\n",
      "Quer continuar? S/N: s\n",
      "Digite um valor: 4\n",
      "Quer continuar? S/N: n\n",
      "O resultado da lista geral: [2, 7, 9, 4].\n",
      "O resultado da lista par: [2, 4].\n",
      "O resultado da lista ímpar: [7, 9]\n"
     ]
    }
   ],
   "source": [
    "lista = []\n",
    "lista_par = []\n",
    "lista_impar = []\n",
    "\n",
    "while True: \n",
    "    numero = input('Digite um valor: ')\n",
    "    numero_int = int(numero)\n",
    "    lista.append(numero_int)\n",
    "    \n",
    "    if numero_int % 2 == 0:\n",
    "        lista_par.append(numero_int)\n",
    "    else:\n",
    "        lista_impar.append(numero_int)\n",
    "    \n",
    "    \n",
    "    r = str(input('Quer continuar? S/N: ')).upper()\n",
    "    if r == 'N':\n",
    "        break\n",
    "    \n",
    "print(f'O resultado da lista geral: {lista}.\\nO resultado da lista par: {lista_par}.\\nO resultado da lista ímpar: {lista_impar}')\n"
   ]
  },
  {
   "cell_type": "markdown",
   "id": "1097ea25",
   "metadata": {},
   "source": [
    "* **83** Crie um programa onde o usuário digite **uma expressão** qualquer que **use parênteses**. Seu programa deverá analisar se a expressão passado está com os parênteses abertos e fechados na **ordem correta**."
   ]
  },
  {
   "cell_type": "code",
   "execution_count": 90,
   "id": "0001ef74",
   "metadata": {},
   "outputs": [
    {
     "name": "stdout",
     "output_type": "stream",
     "text": [
      "Digite a expressão: (a+b)(a(4+3)*2)(c\n",
      "Sua expressão está errada!\n"
     ]
    }
   ],
   "source": [
    "exp = input('Digite a expressão: ')\n",
    "exp_str = str(exp)\n",
    "\n",
    "pilha = []\n",
    "\n",
    "for s in exp:\n",
    "    if s == '(':\n",
    "        pilha.append('(')\n",
    "    elif s == ')':\n",
    "        if len(pilha) > 0:\n",
    "            pilha.pop()\n",
    "        else:\n",
    "            pilha.append(')')\n",
    "            break\n",
    "\n",
    "if len(pilha) == 0:\n",
    "    print('Sua expressão está válida!')\n",
    "else:\n",
    "    print('Sua expressão está errada!')\n",
    "            "
   ]
  },
  {
   "cell_type": "markdown",
   "id": "7f33c146",
   "metadata": {},
   "source": [
    "* **84** Faça um programa que leia **nome e peso** de **várias pessoas**, guardando tudo em uma lista. No final mostre: \n",
    "* **Quantas** pessoas foram cadastradas.\n",
    "* Uma listagem **com as pessoas mais pesadas**.\n",
    "* Uma lista **com as pessoas mais leves**."
   ]
  },
  {
   "cell_type": "code",
   "execution_count": 102,
   "id": "497252ad",
   "metadata": {},
   "outputs": [
    {
     "name": "stdout",
     "output_type": "stream",
     "text": [
      "Nome: mayara\n",
      "Peso: 30\n",
      "Quer continuar? S/N: s\n",
      "Nome: luiara\n",
      "Peso: 25\n",
      "Quer continuar? S/N: n\n",
      "A quantidade de pessoas cadastradas é: 2\n",
      "[['mayara', 30.0], ['luiara', 25.0]] mayara\n"
     ]
    }
   ],
   "source": [
    "dados = []\n",
    "pessoas = []\n",
    "\n",
    "while True:\n",
    "    dados.append(str(input('Nome: ')))\n",
    "    dados.append(float(input('Peso: ')))\n",
    "    pessoas.append(dados[:])\n",
    "    dados.clear()\n",
    "\n",
    "    r = str(input('Quer continuar? S/N: ')).upper()\n",
    "    if r == 'N':\n",
    "        break\n",
    "\n",
    "maior = max(pessoas, key=lambda x: x[1])[0]\n",
    "        \n",
    "print(f'A quantidade de pessoas cadastradas é: {len(pessoas)}')\n",
    "print(pessoas, maior)"
   ]
  },
  {
   "cell_type": "code",
   "execution_count": 94,
   "id": "ac8c5db9",
   "metadata": {},
   "outputs": [
    {
     "name": "stdout",
     "output_type": "stream",
     "text": [
      "Nome: mayara\n",
      "Peso: 2\n",
      "Quer continuar? S/N: s\n",
      "Nome: akaa\n",
      "Peso: 3\n",
      "Quer continuar? S/N: n\n",
      "[]\n"
     ]
    }
   ],
   "source": [
    "nome = []\n",
    "peso = []\n",
    "dados = []\n",
    "\n",
    "while True:\n",
    "    nome.append(str(input('Nome: ')))\n",
    "    peso.append(int(input('Peso: ')))\n",
    "    dados.append(nome[:])\n",
    "    dados.append(peso[:])\n",
    "    dados.clear()\n",
    "    \n",
    "    r = str(input('Quer continuar? S/N: ')).upper()\n",
    "    if r == 'N':\n",
    "        break    \n",
    "    \n",
    "    \n",
    "    \n",
    "print(dados)\n"
   ]
  },
  {
   "cell_type": "markdown",
   "id": "40f5ed33",
   "metadata": {},
   "source": [
    "* **85** Crie um programa onde o usuário possa digitar **sete valores númericos** e cadastre-os em uma **lista única** que mantenha separados os valores **pares** e **ímpares**. No final, mostre os valores pares e ímpares em ordem **crescente**."
   ]
  },
  {
   "cell_type": "code",
   "execution_count": 106,
   "id": "d6eae3cd",
   "metadata": {},
   "outputs": [
    {
     "name": "stdout",
     "output_type": "stream",
     "text": [
      "Digite o 1 valor: 3\n",
      "Digite o 2 valor: 4\n",
      "Digite o 3 valor: 5\n",
      "Digite o 4 valor: 8\n",
      "Digite o 5 valor: 2\n",
      "Digite o 6 valor: 7\n",
      "Digite o 7 valor: 6\n",
      "Todos os valores: [[4, 8, 2, 6], [3, 5, 7]].\n",
      "Pares: [2, 4, 6, 8].\n",
      "Ímpares: [3, 5, 7]\n"
     ]
    }
   ],
   "source": [
    "lista = [[],[]]\n",
    "valor = 0\n",
    "\n",
    "for i in range(1, 8):\n",
    "    valores = input(f'Digite o {i} valor: ')\n",
    "    valores_int = int(valores)\n",
    "    \n",
    "    if valores_int % 2 == 0:\n",
    "        lista[0].append(valores_int)\n",
    "    else:\n",
    "        lista[1].append(valores_int)\n",
    "        \n",
    "pares = sorted(lista[0])\n",
    "impar = sorted(lista[1])\n",
    "print(f'Todos os valores: {lista}.\\nPares: {pares}.\\nÍmpares: {impar}')\n",
    "        \n",
    "    "
   ]
  },
  {
   "cell_type": "markdown",
   "id": "5e2b6299",
   "metadata": {},
   "source": [
    "* **86** Crie um programa que crie uma **matriz** de **dimensão 3x3** e preencha com valores lidos pelo teclado. No final, mostre a **matriz** na tela, com a formatação correta."
   ]
  },
  {
   "cell_type": "code",
   "execution_count": 107,
   "id": "ff27b6d5",
   "metadata": {},
   "outputs": [
    {
     "name": "stdout",
     "output_type": "stream",
     "text": [
      "[[1, 2, 3], [1, 2, 3], [1, 2, 3]]\n"
     ]
    }
   ],
   "source": [
    "lista1 = [1 , 2 , 3]\n",
    "lista2 = [1 , 2 , 3]\n",
    "lista3 = [1 , 2 , 3]\n",
    "\n",
    "lista_fim = [lista1, lista2, lista3]\n",
    "\n",
    "print(lista_fim)"
   ]
  },
  {
   "cell_type": "markdown",
   "id": "e3458311",
   "metadata": {},
   "source": [
    "* **87** Aprimore o **desafio anterior**, mostrando no final:\n",
    "* A **soma** de todos os **valores pares** digitados.\n",
    "* A **soma** dos valores da **terceira coluna**.\n",
    "* O **maior** valor da **segunda linha**."
   ]
  },
  {
   "cell_type": "code",
   "execution_count": null,
   "id": "4f2b92d5",
   "metadata": {},
   "outputs": [],
   "source": []
  },
  {
   "cell_type": "markdown",
   "id": "d754743f",
   "metadata": {},
   "source": [
    "* **88** Faça um programa que ajuda um jogador da **Mega Sina** a criar palpites. O programa vai perguntar **quantos jogos** serão gerados e sortear **6 números entre 1 e 60** para cada jogo, cadastrando tudo em uma **lista composta**."
   ]
  },
  {
   "cell_type": "code",
   "execution_count": null,
   "id": "ceb4ff31",
   "metadata": {},
   "outputs": [],
   "source": [
    "import random\n",
    "\n",
    "quant_jogos = input('Quantos jogos você quer sortear? ')\n",
    "quant_jogos_int = int(quant_jogos)\n",
    "\n",
    "for i in range(0, quant_jogos_int):\n",
    "    "
   ]
  },
  {
   "cell_type": "markdown",
   "id": "cb53d9f9",
   "metadata": {},
   "source": [
    "* **89** Crie um programa que leia **nome** e **duas notas** de vários alunos e guarde tudo em uma **lista composta**. No final, mostre um **boletim** contendo a **média** de cada um e permita que o usuário possa mostrar as **notas** de cada aluno individualmente."
   ]
  },
  {
   "cell_type": "code",
   "execution_count": null,
   "id": "d4dbac75",
   "metadata": {},
   "outputs": [],
   "source": []
  }
 ],
 "metadata": {
  "kernelspec": {
   "display_name": "Python 3 (ipykernel)",
   "language": "python",
   "name": "python3"
  },
  "language_info": {
   "codemirror_mode": {
    "name": "ipython",
    "version": 3
   },
   "file_extension": ".py",
   "mimetype": "text/x-python",
   "name": "python",
   "nbconvert_exporter": "python",
   "pygments_lexer": "ipython3",
   "version": "3.11.3"
  }
 },
 "nbformat": 4,
 "nbformat_minor": 5
}
